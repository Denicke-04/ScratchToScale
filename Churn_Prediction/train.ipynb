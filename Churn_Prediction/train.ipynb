{
 "cells": [
  {
   "cell_type": "markdown",
   "id": "4d9fa1c7-9c8c-479e-886b-46af7e0769bd",
   "metadata": {},
   "source": [
    "### Import packages and data"
   ]
  },
  {
   "cell_type": "code",
   "execution_count": 17,
   "id": "41421627-0f37-471a-b2b6-93fb947286c1",
   "metadata": {},
   "outputs": [
    {
     "name": "stdout",
     "output_type": "stream",
     "text": [
      "Importing Packages...\n"
     ]
    }
   ],
   "source": [
    "print(\"Importing Packages...\")\n",
    "import pandas as pd\n",
    "import numpy as np\n",
    "import matplotlib.pyplot as plt\n",
    "import seaborn as sns\n",
    "from sklearn.linear_model import LogisticRegression\n",
    "from sklearn.model_selection import train_test_split, KFold\n",
    "from sklearn.metrics import mutual_info_score, accuracy_score, roc_auc_score, roc_curve,ConfusionMatrixDisplay\n",
    "from sklearn.feature_extraction import DictVectorizer\n",
    "from IPython.display import display\n",
    "import warnings\n",
    "from sklearn.exceptions import ConvergenceWarning\n",
    "import pickle"
   ]
  },
  {
   "cell_type": "code",
   "execution_count": 18,
   "id": "24866a50-3bb6-46c6-90c6-338c3013d897",
   "metadata": {},
   "outputs": [
    {
     "name": "stdout",
     "output_type": "stream",
     "text": [
      "Reading Data...\n"
     ]
    }
   ],
   "source": [
    "print(\"Reading Data...\")\n",
    "df= pd.read_csv('data.csv')"
   ]
  },
  {
   "cell_type": "code",
   "execution_count": 19,
   "id": "6e720e4b-3fef-4266-b1bd-7a31d0e13e27",
   "metadata": {},
   "outputs": [],
   "source": [
    "C = 1\n",
    "n_splits = 10\n",
    "output_file = f\"Churn_Prediction_model_C= {C}.bin\""
   ]
  },
  {
   "cell_type": "markdown",
   "id": "330746a4-756e-493d-a5be-9b6539606e54",
   "metadata": {},
   "source": [
    "### Data Cleaning"
   ]
  },
  {
   "cell_type": "code",
   "execution_count": 20,
   "id": "e9f2d208-5a9e-49e3-a536-abff5f84b4ac",
   "metadata": {},
   "outputs": [
    {
     "name": "stdout",
     "output_type": "stream",
     "text": [
      "Cleaning Data...\n"
     ]
    }
   ],
   "source": [
    "print(\"Cleaning Data...\")\n",
    "df.columns = df.columns.str.lower().str.replace(' ','_')"
   ]
  },
  {
   "cell_type": "code",
   "execution_count": 21,
   "id": "f20d1c89-3103-4507-b92f-c5c0a8f73887",
   "metadata": {},
   "outputs": [],
   "source": [
    "df.totalcharges = pd.to_numeric(df.totalcharges,errors = 'coerce')"
   ]
  },
  {
   "cell_type": "code",
   "execution_count": 22,
   "id": "1cb2338b-9d50-471c-a3cc-a2798bb04368",
   "metadata": {},
   "outputs": [],
   "source": [
    "numericals = ['tenure', 'monthlycharges', 'totalcharges']\n",
    "categorical = ['gender', 'partner', 'dependents',\n",
    "       'phoneservice', 'multiplelines', 'internetservice',\n",
    "       'onlinesecurity', 'onlinebackup', 'deviceprotection', 'techsupport',\n",
    "       'streamingtv', 'streamingmovies', 'contract', 'paperlessbilling',\n",
    "       'paymentmethod']"
   ]
  },
  {
   "cell_type": "code",
   "execution_count": 23,
   "id": "1bd543f0-77d8-4856-90c3-ff49aaefc371",
   "metadata": {},
   "outputs": [],
   "source": [
    "for c in categorical:\n",
    "    df[c] = df[c].str.lower().str.replace(' ','_')"
   ]
  },
  {
   "cell_type": "code",
   "execution_count": 24,
   "id": "5a604d7a-6ea3-43ad-aafe-5826f20d0084",
   "metadata": {},
   "outputs": [],
   "source": [
    "df.totalcharges = df.totalcharges.fillna(0)\n",
    "df.churn = (df.churn == 'Yes').astype(int)"
   ]
  },
  {
   "cell_type": "code",
   "execution_count": 36,
   "id": "e27a236d-92db-4f3e-8938-802cc72eb2a8",
   "metadata": {},
   "outputs": [],
   "source": [
    "categorical = ['gender','seniorcitizen', 'partner', 'dependents',\n",
    "       'phoneservice', 'multiplelines', 'internetservice',\n",
    "       'onlinesecurity', 'onlinebackup', 'deviceprotection', 'techsupport',\n",
    "       'streamingtv', 'streamingmovies', 'contract', 'paperlessbilling',\n",
    "       'paymentmethod']"
   ]
  },
  {
   "cell_type": "code",
   "execution_count": 37,
   "id": "108f450b-8260-41e7-afa3-1322aa03ee34",
   "metadata": {},
   "outputs": [
    {
     "name": "stdout",
     "output_type": "stream",
     "text": [
      "gender\n"
     ]
    },
    {
     "data": {
      "text/html": [
       "<div>\n",
       "<style scoped>\n",
       "    .dataframe tbody tr th:only-of-type {\n",
       "        vertical-align: middle;\n",
       "    }\n",
       "\n",
       "    .dataframe tbody tr th {\n",
       "        vertical-align: top;\n",
       "    }\n",
       "\n",
       "    .dataframe thead th {\n",
       "        text-align: right;\n",
       "    }\n",
       "</style>\n",
       "<table border=\"1\" class=\"dataframe\">\n",
       "  <thead>\n",
       "    <tr style=\"text-align: right;\">\n",
       "      <th></th>\n",
       "      <th>count</th>\n",
       "      <th>mean</th>\n",
       "      <th>churn rate</th>\n",
       "      <th>risk ratio</th>\n",
       "    </tr>\n",
       "    <tr>\n",
       "      <th>gender</th>\n",
       "      <th></th>\n",
       "      <th></th>\n",
       "      <th></th>\n",
       "      <th></th>\n",
       "    </tr>\n",
       "  </thead>\n",
       "  <tbody>\n",
       "    <tr>\n",
       "      <th>female</th>\n",
       "      <td>3488</td>\n",
       "      <td>0.269209</td>\n",
       "      <td>0.003839</td>\n",
       "      <td>1.014466</td>\n",
       "    </tr>\n",
       "    <tr>\n",
       "      <th>male</th>\n",
       "      <td>3555</td>\n",
       "      <td>0.261603</td>\n",
       "      <td>-0.003766</td>\n",
       "      <td>0.985807</td>\n",
       "    </tr>\n",
       "  </tbody>\n",
       "</table>\n",
       "</div>"
      ],
      "text/plain": [
       "        count      mean  churn rate  risk ratio\n",
       "gender                                         \n",
       "female   3488  0.269209    0.003839    1.014466\n",
       "male     3555  0.261603   -0.003766    0.985807"
      ]
     },
     "metadata": {},
     "output_type": "display_data"
    },
    {
     "name": "stdout",
     "output_type": "stream",
     "text": [
      "\n",
      "seniorcitizen\n"
     ]
    },
    {
     "data": {
      "text/html": [
       "<div>\n",
       "<style scoped>\n",
       "    .dataframe tbody tr th:only-of-type {\n",
       "        vertical-align: middle;\n",
       "    }\n",
       "\n",
       "    .dataframe tbody tr th {\n",
       "        vertical-align: top;\n",
       "    }\n",
       "\n",
       "    .dataframe thead th {\n",
       "        text-align: right;\n",
       "    }\n",
       "</style>\n",
       "<table border=\"1\" class=\"dataframe\">\n",
       "  <thead>\n",
       "    <tr style=\"text-align: right;\">\n",
       "      <th></th>\n",
       "      <th>count</th>\n",
       "      <th>mean</th>\n",
       "      <th>churn rate</th>\n",
       "      <th>risk ratio</th>\n",
       "    </tr>\n",
       "    <tr>\n",
       "      <th>seniorcitizen</th>\n",
       "      <th></th>\n",
       "      <th></th>\n",
       "      <th></th>\n",
       "      <th></th>\n",
       "    </tr>\n",
       "  </thead>\n",
       "  <tbody>\n",
       "    <tr>\n",
       "      <th>0</th>\n",
       "      <td>5901</td>\n",
       "      <td>0.236062</td>\n",
       "      <td>-0.029308</td>\n",
       "      <td>0.889557</td>\n",
       "    </tr>\n",
       "    <tr>\n",
       "      <th>1</th>\n",
       "      <td>1142</td>\n",
       "      <td>0.416813</td>\n",
       "      <td>0.151443</td>\n",
       "      <td>1.570686</td>\n",
       "    </tr>\n",
       "  </tbody>\n",
       "</table>\n",
       "</div>"
      ],
      "text/plain": [
       "               count      mean  churn rate  risk ratio\n",
       "seniorcitizen                                         \n",
       "0               5901  0.236062   -0.029308    0.889557\n",
       "1               1142  0.416813    0.151443    1.570686"
      ]
     },
     "metadata": {},
     "output_type": "display_data"
    },
    {
     "name": "stdout",
     "output_type": "stream",
     "text": [
      "\n",
      "partner\n"
     ]
    },
    {
     "data": {
      "text/html": [
       "<div>\n",
       "<style scoped>\n",
       "    .dataframe tbody tr th:only-of-type {\n",
       "        vertical-align: middle;\n",
       "    }\n",
       "\n",
       "    .dataframe tbody tr th {\n",
       "        vertical-align: top;\n",
       "    }\n",
       "\n",
       "    .dataframe thead th {\n",
       "        text-align: right;\n",
       "    }\n",
       "</style>\n",
       "<table border=\"1\" class=\"dataframe\">\n",
       "  <thead>\n",
       "    <tr style=\"text-align: right;\">\n",
       "      <th></th>\n",
       "      <th>count</th>\n",
       "      <th>mean</th>\n",
       "      <th>churn rate</th>\n",
       "      <th>risk ratio</th>\n",
       "    </tr>\n",
       "    <tr>\n",
       "      <th>partner</th>\n",
       "      <th></th>\n",
       "      <th></th>\n",
       "      <th></th>\n",
       "      <th></th>\n",
       "    </tr>\n",
       "  </thead>\n",
       "  <tbody>\n",
       "    <tr>\n",
       "      <th>no</th>\n",
       "      <td>3641</td>\n",
       "      <td>0.329580</td>\n",
       "      <td>0.064210</td>\n",
       "      <td>1.241964</td>\n",
       "    </tr>\n",
       "    <tr>\n",
       "      <th>yes</th>\n",
       "      <td>3402</td>\n",
       "      <td>0.196649</td>\n",
       "      <td>-0.068721</td>\n",
       "      <td>0.741038</td>\n",
       "    </tr>\n",
       "  </tbody>\n",
       "</table>\n",
       "</div>"
      ],
      "text/plain": [
       "         count      mean  churn rate  risk ratio\n",
       "partner                                         \n",
       "no        3641  0.329580    0.064210    1.241964\n",
       "yes       3402  0.196649   -0.068721    0.741038"
      ]
     },
     "metadata": {},
     "output_type": "display_data"
    },
    {
     "name": "stdout",
     "output_type": "stream",
     "text": [
      "\n",
      "dependents\n"
     ]
    },
    {
     "data": {
      "text/html": [
       "<div>\n",
       "<style scoped>\n",
       "    .dataframe tbody tr th:only-of-type {\n",
       "        vertical-align: middle;\n",
       "    }\n",
       "\n",
       "    .dataframe tbody tr th {\n",
       "        vertical-align: top;\n",
       "    }\n",
       "\n",
       "    .dataframe thead th {\n",
       "        text-align: right;\n",
       "    }\n",
       "</style>\n",
       "<table border=\"1\" class=\"dataframe\">\n",
       "  <thead>\n",
       "    <tr style=\"text-align: right;\">\n",
       "      <th></th>\n",
       "      <th>count</th>\n",
       "      <th>mean</th>\n",
       "      <th>churn rate</th>\n",
       "      <th>risk ratio</th>\n",
       "    </tr>\n",
       "    <tr>\n",
       "      <th>dependents</th>\n",
       "      <th></th>\n",
       "      <th></th>\n",
       "      <th></th>\n",
       "      <th></th>\n",
       "    </tr>\n",
       "  </thead>\n",
       "  <tbody>\n",
       "    <tr>\n",
       "      <th>no</th>\n",
       "      <td>4933</td>\n",
       "      <td>0.312791</td>\n",
       "      <td>0.047422</td>\n",
       "      <td>1.178700</td>\n",
       "    </tr>\n",
       "    <tr>\n",
       "      <th>yes</th>\n",
       "      <td>2110</td>\n",
       "      <td>0.154502</td>\n",
       "      <td>-0.110868</td>\n",
       "      <td>0.582215</td>\n",
       "    </tr>\n",
       "  </tbody>\n",
       "</table>\n",
       "</div>"
      ],
      "text/plain": [
       "            count      mean  churn rate  risk ratio\n",
       "dependents                                         \n",
       "no           4933  0.312791    0.047422    1.178700\n",
       "yes          2110  0.154502   -0.110868    0.582215"
      ]
     },
     "metadata": {},
     "output_type": "display_data"
    },
    {
     "name": "stdout",
     "output_type": "stream",
     "text": [
      "\n",
      "phoneservice\n"
     ]
    },
    {
     "data": {
      "text/html": [
       "<div>\n",
       "<style scoped>\n",
       "    .dataframe tbody tr th:only-of-type {\n",
       "        vertical-align: middle;\n",
       "    }\n",
       "\n",
       "    .dataframe tbody tr th {\n",
       "        vertical-align: top;\n",
       "    }\n",
       "\n",
       "    .dataframe thead th {\n",
       "        text-align: right;\n",
       "    }\n",
       "</style>\n",
       "<table border=\"1\" class=\"dataframe\">\n",
       "  <thead>\n",
       "    <tr style=\"text-align: right;\">\n",
       "      <th></th>\n",
       "      <th>count</th>\n",
       "      <th>mean</th>\n",
       "      <th>churn rate</th>\n",
       "      <th>risk ratio</th>\n",
       "    </tr>\n",
       "    <tr>\n",
       "      <th>phoneservice</th>\n",
       "      <th></th>\n",
       "      <th></th>\n",
       "      <th></th>\n",
       "      <th></th>\n",
       "    </tr>\n",
       "  </thead>\n",
       "  <tbody>\n",
       "    <tr>\n",
       "      <th>no</th>\n",
       "      <td>682</td>\n",
       "      <td>0.249267</td>\n",
       "      <td>-0.016103</td>\n",
       "      <td>0.939319</td>\n",
       "    </tr>\n",
       "    <tr>\n",
       "      <th>yes</th>\n",
       "      <td>6361</td>\n",
       "      <td>0.267096</td>\n",
       "      <td>0.001726</td>\n",
       "      <td>1.006506</td>\n",
       "    </tr>\n",
       "  </tbody>\n",
       "</table>\n",
       "</div>"
      ],
      "text/plain": [
       "              count      mean  churn rate  risk ratio\n",
       "phoneservice                                         \n",
       "no              682  0.249267   -0.016103    0.939319\n",
       "yes            6361  0.267096    0.001726    1.006506"
      ]
     },
     "metadata": {},
     "output_type": "display_data"
    },
    {
     "name": "stdout",
     "output_type": "stream",
     "text": [
      "\n",
      "multiplelines\n"
     ]
    },
    {
     "data": {
      "text/html": [
       "<div>\n",
       "<style scoped>\n",
       "    .dataframe tbody tr th:only-of-type {\n",
       "        vertical-align: middle;\n",
       "    }\n",
       "\n",
       "    .dataframe tbody tr th {\n",
       "        vertical-align: top;\n",
       "    }\n",
       "\n",
       "    .dataframe thead th {\n",
       "        text-align: right;\n",
       "    }\n",
       "</style>\n",
       "<table border=\"1\" class=\"dataframe\">\n",
       "  <thead>\n",
       "    <tr style=\"text-align: right;\">\n",
       "      <th></th>\n",
       "      <th>count</th>\n",
       "      <th>mean</th>\n",
       "      <th>churn rate</th>\n",
       "      <th>risk ratio</th>\n",
       "    </tr>\n",
       "    <tr>\n",
       "      <th>multiplelines</th>\n",
       "      <th></th>\n",
       "      <th></th>\n",
       "      <th></th>\n",
       "      <th></th>\n",
       "    </tr>\n",
       "  </thead>\n",
       "  <tbody>\n",
       "    <tr>\n",
       "      <th>no</th>\n",
       "      <td>3390</td>\n",
       "      <td>0.250442</td>\n",
       "      <td>-0.014927</td>\n",
       "      <td>0.943749</td>\n",
       "    </tr>\n",
       "    <tr>\n",
       "      <th>no_phone_service</th>\n",
       "      <td>682</td>\n",
       "      <td>0.249267</td>\n",
       "      <td>-0.016103</td>\n",
       "      <td>0.939319</td>\n",
       "    </tr>\n",
       "    <tr>\n",
       "      <th>yes</th>\n",
       "      <td>2971</td>\n",
       "      <td>0.286099</td>\n",
       "      <td>0.020729</td>\n",
       "      <td>1.078114</td>\n",
       "    </tr>\n",
       "  </tbody>\n",
       "</table>\n",
       "</div>"
      ],
      "text/plain": [
       "                  count      mean  churn rate  risk ratio\n",
       "multiplelines                                            \n",
       "no                 3390  0.250442   -0.014927    0.943749\n",
       "no_phone_service    682  0.249267   -0.016103    0.939319\n",
       "yes                2971  0.286099    0.020729    1.078114"
      ]
     },
     "metadata": {},
     "output_type": "display_data"
    },
    {
     "name": "stdout",
     "output_type": "stream",
     "text": [
      "\n",
      "internetservice\n"
     ]
    },
    {
     "data": {
      "text/html": [
       "<div>\n",
       "<style scoped>\n",
       "    .dataframe tbody tr th:only-of-type {\n",
       "        vertical-align: middle;\n",
       "    }\n",
       "\n",
       "    .dataframe tbody tr th {\n",
       "        vertical-align: top;\n",
       "    }\n",
       "\n",
       "    .dataframe thead th {\n",
       "        text-align: right;\n",
       "    }\n",
       "</style>\n",
       "<table border=\"1\" class=\"dataframe\">\n",
       "  <thead>\n",
       "    <tr style=\"text-align: right;\">\n",
       "      <th></th>\n",
       "      <th>count</th>\n",
       "      <th>mean</th>\n",
       "      <th>churn rate</th>\n",
       "      <th>risk ratio</th>\n",
       "    </tr>\n",
       "    <tr>\n",
       "      <th>internetservice</th>\n",
       "      <th></th>\n",
       "      <th></th>\n",
       "      <th></th>\n",
       "      <th></th>\n",
       "    </tr>\n",
       "  </thead>\n",
       "  <tbody>\n",
       "    <tr>\n",
       "      <th>dsl</th>\n",
       "      <td>2421</td>\n",
       "      <td>0.189591</td>\n",
       "      <td>-0.075779</td>\n",
       "      <td>0.714441</td>\n",
       "    </tr>\n",
       "    <tr>\n",
       "      <th>fiber_optic</th>\n",
       "      <td>3096</td>\n",
       "      <td>0.418928</td>\n",
       "      <td>0.153558</td>\n",
       "      <td>1.578656</td>\n",
       "    </tr>\n",
       "    <tr>\n",
       "      <th>no</th>\n",
       "      <td>1526</td>\n",
       "      <td>0.074050</td>\n",
       "      <td>-0.191320</td>\n",
       "      <td>0.279044</td>\n",
       "    </tr>\n",
       "  </tbody>\n",
       "</table>\n",
       "</div>"
      ],
      "text/plain": [
       "                 count      mean  churn rate  risk ratio\n",
       "internetservice                                         \n",
       "dsl               2421  0.189591   -0.075779    0.714441\n",
       "fiber_optic       3096  0.418928    0.153558    1.578656\n",
       "no                1526  0.074050   -0.191320    0.279044"
      ]
     },
     "metadata": {},
     "output_type": "display_data"
    },
    {
     "name": "stdout",
     "output_type": "stream",
     "text": [
      "\n",
      "onlinesecurity\n"
     ]
    },
    {
     "data": {
      "text/html": [
       "<div>\n",
       "<style scoped>\n",
       "    .dataframe tbody tr th:only-of-type {\n",
       "        vertical-align: middle;\n",
       "    }\n",
       "\n",
       "    .dataframe tbody tr th {\n",
       "        vertical-align: top;\n",
       "    }\n",
       "\n",
       "    .dataframe thead th {\n",
       "        text-align: right;\n",
       "    }\n",
       "</style>\n",
       "<table border=\"1\" class=\"dataframe\">\n",
       "  <thead>\n",
       "    <tr style=\"text-align: right;\">\n",
       "      <th></th>\n",
       "      <th>count</th>\n",
       "      <th>mean</th>\n",
       "      <th>churn rate</th>\n",
       "      <th>risk ratio</th>\n",
       "    </tr>\n",
       "    <tr>\n",
       "      <th>onlinesecurity</th>\n",
       "      <th></th>\n",
       "      <th></th>\n",
       "      <th></th>\n",
       "      <th></th>\n",
       "    </tr>\n",
       "  </thead>\n",
       "  <tbody>\n",
       "    <tr>\n",
       "      <th>no</th>\n",
       "      <td>3498</td>\n",
       "      <td>0.417667</td>\n",
       "      <td>0.152297</td>\n",
       "      <td>1.573906</td>\n",
       "    </tr>\n",
       "    <tr>\n",
       "      <th>no_internet_service</th>\n",
       "      <td>1526</td>\n",
       "      <td>0.074050</td>\n",
       "      <td>-0.191320</td>\n",
       "      <td>0.279044</td>\n",
       "    </tr>\n",
       "    <tr>\n",
       "      <th>yes</th>\n",
       "      <td>2019</td>\n",
       "      <td>0.146112</td>\n",
       "      <td>-0.119258</td>\n",
       "      <td>0.550597</td>\n",
       "    </tr>\n",
       "  </tbody>\n",
       "</table>\n",
       "</div>"
      ],
      "text/plain": [
       "                     count      mean  churn rate  risk ratio\n",
       "onlinesecurity                                              \n",
       "no                    3498  0.417667    0.152297    1.573906\n",
       "no_internet_service   1526  0.074050   -0.191320    0.279044\n",
       "yes                   2019  0.146112   -0.119258    0.550597"
      ]
     },
     "metadata": {},
     "output_type": "display_data"
    },
    {
     "name": "stdout",
     "output_type": "stream",
     "text": [
      "\n",
      "onlinebackup\n"
     ]
    },
    {
     "data": {
      "text/html": [
       "<div>\n",
       "<style scoped>\n",
       "    .dataframe tbody tr th:only-of-type {\n",
       "        vertical-align: middle;\n",
       "    }\n",
       "\n",
       "    .dataframe tbody tr th {\n",
       "        vertical-align: top;\n",
       "    }\n",
       "\n",
       "    .dataframe thead th {\n",
       "        text-align: right;\n",
       "    }\n",
       "</style>\n",
       "<table border=\"1\" class=\"dataframe\">\n",
       "  <thead>\n",
       "    <tr style=\"text-align: right;\">\n",
       "      <th></th>\n",
       "      <th>count</th>\n",
       "      <th>mean</th>\n",
       "      <th>churn rate</th>\n",
       "      <th>risk ratio</th>\n",
       "    </tr>\n",
       "    <tr>\n",
       "      <th>onlinebackup</th>\n",
       "      <th></th>\n",
       "      <th></th>\n",
       "      <th></th>\n",
       "      <th></th>\n",
       "    </tr>\n",
       "  </thead>\n",
       "  <tbody>\n",
       "    <tr>\n",
       "      <th>no</th>\n",
       "      <td>3088</td>\n",
       "      <td>0.399288</td>\n",
       "      <td>0.133918</td>\n",
       "      <td>1.504645</td>\n",
       "    </tr>\n",
       "    <tr>\n",
       "      <th>no_internet_service</th>\n",
       "      <td>1526</td>\n",
       "      <td>0.074050</td>\n",
       "      <td>-0.191320</td>\n",
       "      <td>0.279044</td>\n",
       "    </tr>\n",
       "    <tr>\n",
       "      <th>yes</th>\n",
       "      <td>2429</td>\n",
       "      <td>0.215315</td>\n",
       "      <td>-0.050055</td>\n",
       "      <td>0.811377</td>\n",
       "    </tr>\n",
       "  </tbody>\n",
       "</table>\n",
       "</div>"
      ],
      "text/plain": [
       "                     count      mean  churn rate  risk ratio\n",
       "onlinebackup                                                \n",
       "no                    3088  0.399288    0.133918    1.504645\n",
       "no_internet_service   1526  0.074050   -0.191320    0.279044\n",
       "yes                   2429  0.215315   -0.050055    0.811377"
      ]
     },
     "metadata": {},
     "output_type": "display_data"
    },
    {
     "name": "stdout",
     "output_type": "stream",
     "text": [
      "\n",
      "deviceprotection\n"
     ]
    },
    {
     "data": {
      "text/html": [
       "<div>\n",
       "<style scoped>\n",
       "    .dataframe tbody tr th:only-of-type {\n",
       "        vertical-align: middle;\n",
       "    }\n",
       "\n",
       "    .dataframe tbody tr th {\n",
       "        vertical-align: top;\n",
       "    }\n",
       "\n",
       "    .dataframe thead th {\n",
       "        text-align: right;\n",
       "    }\n",
       "</style>\n",
       "<table border=\"1\" class=\"dataframe\">\n",
       "  <thead>\n",
       "    <tr style=\"text-align: right;\">\n",
       "      <th></th>\n",
       "      <th>count</th>\n",
       "      <th>mean</th>\n",
       "      <th>churn rate</th>\n",
       "      <th>risk ratio</th>\n",
       "    </tr>\n",
       "    <tr>\n",
       "      <th>deviceprotection</th>\n",
       "      <th></th>\n",
       "      <th></th>\n",
       "      <th></th>\n",
       "      <th></th>\n",
       "    </tr>\n",
       "  </thead>\n",
       "  <tbody>\n",
       "    <tr>\n",
       "      <th>no</th>\n",
       "      <td>3095</td>\n",
       "      <td>0.391276</td>\n",
       "      <td>0.125906</td>\n",
       "      <td>1.474456</td>\n",
       "    </tr>\n",
       "    <tr>\n",
       "      <th>no_internet_service</th>\n",
       "      <td>1526</td>\n",
       "      <td>0.074050</td>\n",
       "      <td>-0.191320</td>\n",
       "      <td>0.279044</td>\n",
       "    </tr>\n",
       "    <tr>\n",
       "      <th>yes</th>\n",
       "      <td>2422</td>\n",
       "      <td>0.225021</td>\n",
       "      <td>-0.040349</td>\n",
       "      <td>0.847951</td>\n",
       "    </tr>\n",
       "  </tbody>\n",
       "</table>\n",
       "</div>"
      ],
      "text/plain": [
       "                     count      mean  churn rate  risk ratio\n",
       "deviceprotection                                            \n",
       "no                    3095  0.391276    0.125906    1.474456\n",
       "no_internet_service   1526  0.074050   -0.191320    0.279044\n",
       "yes                   2422  0.225021   -0.040349    0.847951"
      ]
     },
     "metadata": {},
     "output_type": "display_data"
    },
    {
     "name": "stdout",
     "output_type": "stream",
     "text": [
      "\n",
      "techsupport\n"
     ]
    },
    {
     "data": {
      "text/html": [
       "<div>\n",
       "<style scoped>\n",
       "    .dataframe tbody tr th:only-of-type {\n",
       "        vertical-align: middle;\n",
       "    }\n",
       "\n",
       "    .dataframe tbody tr th {\n",
       "        vertical-align: top;\n",
       "    }\n",
       "\n",
       "    .dataframe thead th {\n",
       "        text-align: right;\n",
       "    }\n",
       "</style>\n",
       "<table border=\"1\" class=\"dataframe\">\n",
       "  <thead>\n",
       "    <tr style=\"text-align: right;\">\n",
       "      <th></th>\n",
       "      <th>count</th>\n",
       "      <th>mean</th>\n",
       "      <th>churn rate</th>\n",
       "      <th>risk ratio</th>\n",
       "    </tr>\n",
       "    <tr>\n",
       "      <th>techsupport</th>\n",
       "      <th></th>\n",
       "      <th></th>\n",
       "      <th></th>\n",
       "      <th></th>\n",
       "    </tr>\n",
       "  </thead>\n",
       "  <tbody>\n",
       "    <tr>\n",
       "      <th>no</th>\n",
       "      <td>3473</td>\n",
       "      <td>0.416355</td>\n",
       "      <td>0.150985</td>\n",
       "      <td>1.568960</td>\n",
       "    </tr>\n",
       "    <tr>\n",
       "      <th>no_internet_service</th>\n",
       "      <td>1526</td>\n",
       "      <td>0.074050</td>\n",
       "      <td>-0.191320</td>\n",
       "      <td>0.279044</td>\n",
       "    </tr>\n",
       "    <tr>\n",
       "      <th>yes</th>\n",
       "      <td>2044</td>\n",
       "      <td>0.151663</td>\n",
       "      <td>-0.113706</td>\n",
       "      <td>0.571517</td>\n",
       "    </tr>\n",
       "  </tbody>\n",
       "</table>\n",
       "</div>"
      ],
      "text/plain": [
       "                     count      mean  churn rate  risk ratio\n",
       "techsupport                                                 \n",
       "no                    3473  0.416355    0.150985    1.568960\n",
       "no_internet_service   1526  0.074050   -0.191320    0.279044\n",
       "yes                   2044  0.151663   -0.113706    0.571517"
      ]
     },
     "metadata": {},
     "output_type": "display_data"
    },
    {
     "name": "stdout",
     "output_type": "stream",
     "text": [
      "\n",
      "streamingtv\n"
     ]
    },
    {
     "data": {
      "text/html": [
       "<div>\n",
       "<style scoped>\n",
       "    .dataframe tbody tr th:only-of-type {\n",
       "        vertical-align: middle;\n",
       "    }\n",
       "\n",
       "    .dataframe tbody tr th {\n",
       "        vertical-align: top;\n",
       "    }\n",
       "\n",
       "    .dataframe thead th {\n",
       "        text-align: right;\n",
       "    }\n",
       "</style>\n",
       "<table border=\"1\" class=\"dataframe\">\n",
       "  <thead>\n",
       "    <tr style=\"text-align: right;\">\n",
       "      <th></th>\n",
       "      <th>count</th>\n",
       "      <th>mean</th>\n",
       "      <th>churn rate</th>\n",
       "      <th>risk ratio</th>\n",
       "    </tr>\n",
       "    <tr>\n",
       "      <th>streamingtv</th>\n",
       "      <th></th>\n",
       "      <th></th>\n",
       "      <th></th>\n",
       "      <th></th>\n",
       "    </tr>\n",
       "  </thead>\n",
       "  <tbody>\n",
       "    <tr>\n",
       "      <th>no</th>\n",
       "      <td>2810</td>\n",
       "      <td>0.335231</td>\n",
       "      <td>0.069861</td>\n",
       "      <td>1.263261</td>\n",
       "    </tr>\n",
       "    <tr>\n",
       "      <th>no_internet_service</th>\n",
       "      <td>1526</td>\n",
       "      <td>0.074050</td>\n",
       "      <td>-0.191320</td>\n",
       "      <td>0.279044</td>\n",
       "    </tr>\n",
       "    <tr>\n",
       "      <th>yes</th>\n",
       "      <td>2707</td>\n",
       "      <td>0.300702</td>\n",
       "      <td>0.035332</td>\n",
       "      <td>1.133143</td>\n",
       "    </tr>\n",
       "  </tbody>\n",
       "</table>\n",
       "</div>"
      ],
      "text/plain": [
       "                     count      mean  churn rate  risk ratio\n",
       "streamingtv                                                 \n",
       "no                    2810  0.335231    0.069861    1.263261\n",
       "no_internet_service   1526  0.074050   -0.191320    0.279044\n",
       "yes                   2707  0.300702    0.035332    1.133143"
      ]
     },
     "metadata": {},
     "output_type": "display_data"
    },
    {
     "name": "stdout",
     "output_type": "stream",
     "text": [
      "\n",
      "streamingmovies\n"
     ]
    },
    {
     "data": {
      "text/html": [
       "<div>\n",
       "<style scoped>\n",
       "    .dataframe tbody tr th:only-of-type {\n",
       "        vertical-align: middle;\n",
       "    }\n",
       "\n",
       "    .dataframe tbody tr th {\n",
       "        vertical-align: top;\n",
       "    }\n",
       "\n",
       "    .dataframe thead th {\n",
       "        text-align: right;\n",
       "    }\n",
       "</style>\n",
       "<table border=\"1\" class=\"dataframe\">\n",
       "  <thead>\n",
       "    <tr style=\"text-align: right;\">\n",
       "      <th></th>\n",
       "      <th>count</th>\n",
       "      <th>mean</th>\n",
       "      <th>churn rate</th>\n",
       "      <th>risk ratio</th>\n",
       "    </tr>\n",
       "    <tr>\n",
       "      <th>streamingmovies</th>\n",
       "      <th></th>\n",
       "      <th></th>\n",
       "      <th></th>\n",
       "      <th></th>\n",
       "    </tr>\n",
       "  </thead>\n",
       "  <tbody>\n",
       "    <tr>\n",
       "      <th>no</th>\n",
       "      <td>2785</td>\n",
       "      <td>0.336804</td>\n",
       "      <td>0.071434</td>\n",
       "      <td>1.269188</td>\n",
       "    </tr>\n",
       "    <tr>\n",
       "      <th>no_internet_service</th>\n",
       "      <td>1526</td>\n",
       "      <td>0.074050</td>\n",
       "      <td>-0.191320</td>\n",
       "      <td>0.279044</td>\n",
       "    </tr>\n",
       "    <tr>\n",
       "      <th>yes</th>\n",
       "      <td>2732</td>\n",
       "      <td>0.299414</td>\n",
       "      <td>0.034044</td>\n",
       "      <td>1.128291</td>\n",
       "    </tr>\n",
       "  </tbody>\n",
       "</table>\n",
       "</div>"
      ],
      "text/plain": [
       "                     count      mean  churn rate  risk ratio\n",
       "streamingmovies                                             \n",
       "no                    2785  0.336804    0.071434    1.269188\n",
       "no_internet_service   1526  0.074050   -0.191320    0.279044\n",
       "yes                   2732  0.299414    0.034044    1.128291"
      ]
     },
     "metadata": {},
     "output_type": "display_data"
    },
    {
     "name": "stdout",
     "output_type": "stream",
     "text": [
      "\n",
      "contract\n"
     ]
    },
    {
     "data": {
      "text/html": [
       "<div>\n",
       "<style scoped>\n",
       "    .dataframe tbody tr th:only-of-type {\n",
       "        vertical-align: middle;\n",
       "    }\n",
       "\n",
       "    .dataframe tbody tr th {\n",
       "        vertical-align: top;\n",
       "    }\n",
       "\n",
       "    .dataframe thead th {\n",
       "        text-align: right;\n",
       "    }\n",
       "</style>\n",
       "<table border=\"1\" class=\"dataframe\">\n",
       "  <thead>\n",
       "    <tr style=\"text-align: right;\">\n",
       "      <th></th>\n",
       "      <th>count</th>\n",
       "      <th>mean</th>\n",
       "      <th>churn rate</th>\n",
       "      <th>risk ratio</th>\n",
       "    </tr>\n",
       "    <tr>\n",
       "      <th>contract</th>\n",
       "      <th></th>\n",
       "      <th></th>\n",
       "      <th></th>\n",
       "      <th></th>\n",
       "    </tr>\n",
       "  </thead>\n",
       "  <tbody>\n",
       "    <tr>\n",
       "      <th>month-to-month</th>\n",
       "      <td>3875</td>\n",
       "      <td>0.427097</td>\n",
       "      <td>0.161727</td>\n",
       "      <td>1.609440</td>\n",
       "    </tr>\n",
       "    <tr>\n",
       "      <th>one_year</th>\n",
       "      <td>1473</td>\n",
       "      <td>0.112695</td>\n",
       "      <td>-0.152675</td>\n",
       "      <td>0.424672</td>\n",
       "    </tr>\n",
       "    <tr>\n",
       "      <th>two_year</th>\n",
       "      <td>1695</td>\n",
       "      <td>0.028319</td>\n",
       "      <td>-0.237051</td>\n",
       "      <td>0.106714</td>\n",
       "    </tr>\n",
       "  </tbody>\n",
       "</table>\n",
       "</div>"
      ],
      "text/plain": [
       "                count      mean  churn rate  risk ratio\n",
       "contract                                               \n",
       "month-to-month   3875  0.427097    0.161727    1.609440\n",
       "one_year         1473  0.112695   -0.152675    0.424672\n",
       "two_year         1695  0.028319   -0.237051    0.106714"
      ]
     },
     "metadata": {},
     "output_type": "display_data"
    },
    {
     "name": "stdout",
     "output_type": "stream",
     "text": [
      "\n",
      "paperlessbilling\n"
     ]
    },
    {
     "data": {
      "text/html": [
       "<div>\n",
       "<style scoped>\n",
       "    .dataframe tbody tr th:only-of-type {\n",
       "        vertical-align: middle;\n",
       "    }\n",
       "\n",
       "    .dataframe tbody tr th {\n",
       "        vertical-align: top;\n",
       "    }\n",
       "\n",
       "    .dataframe thead th {\n",
       "        text-align: right;\n",
       "    }\n",
       "</style>\n",
       "<table border=\"1\" class=\"dataframe\">\n",
       "  <thead>\n",
       "    <tr style=\"text-align: right;\">\n",
       "      <th></th>\n",
       "      <th>count</th>\n",
       "      <th>mean</th>\n",
       "      <th>churn rate</th>\n",
       "      <th>risk ratio</th>\n",
       "    </tr>\n",
       "    <tr>\n",
       "      <th>paperlessbilling</th>\n",
       "      <th></th>\n",
       "      <th></th>\n",
       "      <th></th>\n",
       "      <th></th>\n",
       "    </tr>\n",
       "  </thead>\n",
       "  <tbody>\n",
       "    <tr>\n",
       "      <th>no</th>\n",
       "      <td>2872</td>\n",
       "      <td>0.163301</td>\n",
       "      <td>-0.102069</td>\n",
       "      <td>0.615371</td>\n",
       "    </tr>\n",
       "    <tr>\n",
       "      <th>yes</th>\n",
       "      <td>4171</td>\n",
       "      <td>0.335651</td>\n",
       "      <td>0.070281</td>\n",
       "      <td>1.264842</td>\n",
       "    </tr>\n",
       "  </tbody>\n",
       "</table>\n",
       "</div>"
      ],
      "text/plain": [
       "                  count      mean  churn rate  risk ratio\n",
       "paperlessbilling                                         \n",
       "no                 2872  0.163301   -0.102069    0.615371\n",
       "yes                4171  0.335651    0.070281    1.264842"
      ]
     },
     "metadata": {},
     "output_type": "display_data"
    },
    {
     "name": "stdout",
     "output_type": "stream",
     "text": [
      "\n",
      "paymentmethod\n"
     ]
    },
    {
     "data": {
      "text/html": [
       "<div>\n",
       "<style scoped>\n",
       "    .dataframe tbody tr th:only-of-type {\n",
       "        vertical-align: middle;\n",
       "    }\n",
       "\n",
       "    .dataframe tbody tr th {\n",
       "        vertical-align: top;\n",
       "    }\n",
       "\n",
       "    .dataframe thead th {\n",
       "        text-align: right;\n",
       "    }\n",
       "</style>\n",
       "<table border=\"1\" class=\"dataframe\">\n",
       "  <thead>\n",
       "    <tr style=\"text-align: right;\">\n",
       "      <th></th>\n",
       "      <th>count</th>\n",
       "      <th>mean</th>\n",
       "      <th>churn rate</th>\n",
       "      <th>risk ratio</th>\n",
       "    </tr>\n",
       "    <tr>\n",
       "      <th>paymentmethod</th>\n",
       "      <th></th>\n",
       "      <th></th>\n",
       "      <th></th>\n",
       "      <th></th>\n",
       "    </tr>\n",
       "  </thead>\n",
       "  <tbody>\n",
       "    <tr>\n",
       "      <th>bank_transfer_(automatic)</th>\n",
       "      <td>1544</td>\n",
       "      <td>0.167098</td>\n",
       "      <td>-0.098271</td>\n",
       "      <td>0.629681</td>\n",
       "    </tr>\n",
       "    <tr>\n",
       "      <th>credit_card_(automatic)</th>\n",
       "      <td>1522</td>\n",
       "      <td>0.152431</td>\n",
       "      <td>-0.112939</td>\n",
       "      <td>0.574410</td>\n",
       "    </tr>\n",
       "    <tr>\n",
       "      <th>electronic_check</th>\n",
       "      <td>2365</td>\n",
       "      <td>0.452854</td>\n",
       "      <td>0.187484</td>\n",
       "      <td>1.706502</td>\n",
       "    </tr>\n",
       "    <tr>\n",
       "      <th>mailed_check</th>\n",
       "      <td>1612</td>\n",
       "      <td>0.191067</td>\n",
       "      <td>-0.074303</td>\n",
       "      <td>0.720003</td>\n",
       "    </tr>\n",
       "  </tbody>\n",
       "</table>\n",
       "</div>"
      ],
      "text/plain": [
       "                           count      mean  churn rate  risk ratio\n",
       "paymentmethod                                                     \n",
       "bank_transfer_(automatic)   1544  0.167098   -0.098271    0.629681\n",
       "credit_card_(automatic)     1522  0.152431   -0.112939    0.574410\n",
       "electronic_check            2365  0.452854    0.187484    1.706502\n",
       "mailed_check                1612  0.191067   -0.074303    0.720003"
      ]
     },
     "metadata": {},
     "output_type": "display_data"
    },
    {
     "name": "stdout",
     "output_type": "stream",
     "text": [
      "\n"
     ]
    }
   ],
   "source": [
    "for c in categorical:\n",
    "    print(c)\n",
    "    df_group = df.groupby(c).churn.agg(['count','mean'])\n",
    "    df_group['churn rate'] = df_group['mean'] - df.churn.mean()\n",
    "    df_group['risk ratio'] = df_group['mean'] / df.churn.mean()\n",
    "    display(df_group)\n",
    "    print()"
   ]
  },
  {
   "cell_type": "code",
   "execution_count": 38,
   "id": "e3fd77b1-3013-4908-baa4-0f53b31628e1",
   "metadata": {},
   "outputs": [],
   "source": [
    "def mutual_info(column):\n",
    "    return mutual_info_score(column,df.churn)\n",
    "    "
   ]
  },
  {
   "cell_type": "code",
   "execution_count": 39,
   "id": "db012f10-8d1b-4e32-9018-a98088bc3f99",
   "metadata": {},
   "outputs": [
    {
     "data": {
      "text/plain": [
       "contract            0.098453\n",
       "onlinesecurity      0.064677\n",
       "techsupport         0.063021\n",
       "internetservice     0.055574\n",
       "onlinebackup        0.046792\n",
       "paymentmethod       0.044519\n",
       "deviceprotection    0.043917\n",
       "streamingmovies     0.032001\n",
       "streamingtv         0.031908\n",
       "paperlessbilling    0.019194\n",
       "dependents          0.014467\n",
       "partner             0.011454\n",
       "seniorcitizen       0.010577\n",
       "multiplelines       0.000801\n",
       "phoneservice        0.000072\n",
       "gender              0.000037\n",
       "dtype: float64"
      ]
     },
     "execution_count": 39,
     "metadata": {},
     "output_type": "execute_result"
    }
   ],
   "source": [
    "m_i = df[categorical].apply(mutual_info)\n",
    "m_i.sort_values(ascending = False)"
   ]
  },
  {
   "cell_type": "code",
   "execution_count": 40,
   "id": "1e259a6a-9ef2-4747-810f-a0b36b0950a7",
   "metadata": {},
   "outputs": [
    {
     "data": {
      "text/plain": [
       "tenure           -0.352229\n",
       "monthlycharges    0.193356\n",
       "totalcharges     -0.198324\n",
       "dtype: float64"
      ]
     },
     "execution_count": 40,
     "metadata": {},
     "output_type": "execute_result"
    }
   ],
   "source": [
    "df[numericals].corrwith(df.churn)"
   ]
  },
  {
   "cell_type": "markdown",
   "id": "3263c2a5-dc22-4fa2-9bdd-1faa6858779c",
   "metadata": {},
   "source": [
    "### Split data into Train, Validation and Test sets"
   ]
  },
  {
   "cell_type": "code",
   "execution_count": 27,
   "id": "cf042342-9441-40f1-892f-4671f438da03",
   "metadata": {},
   "outputs": [
    {
     "name": "stdout",
     "output_type": "stream",
     "text": [
      "Splitting into train,valid and test sets\n"
     ]
    }
   ],
   "source": [
    "print(\"Splitting into train,valid and test sets\")\n",
    "df_train_full,df_test = train_test_split(df,test_size = 0.2, random_state = 120)\n",
    "df_train,df_val = train_test_split(df_train_full,test_size = 0.25, random_state =120) # test_size is 0.25 to get 20% of the full data"
   ]
  },
  {
   "cell_type": "code",
   "execution_count": 28,
   "id": "dc463f32-16ae-4ec7-bc8c-05c09f9aa915",
   "metadata": {},
   "outputs": [],
   "source": [
    "y_train = df_train.churn\n",
    "y_val = df_val.churn\n",
    "y_test = df_test.churn\n",
    "del df_train['churn']\n",
    "del df_val['churn']\n",
    "del df_test['churn']"
   ]
  },
  {
   "cell_type": "markdown",
   "id": "cfa05836-11f5-4863-881c-99351a7e5ec5",
   "metadata": {},
   "source": [
    "### Regularization parameter tuning with KFold Cross validation"
   ]
  },
  {
   "cell_type": "code",
   "execution_count": 29,
   "id": "6d382f3c-0739-489e-9fb6-3cf5fe2907a9",
   "metadata": {},
   "outputs": [],
   "source": [
    "def train(df_train,y_train,C):\n",
    "    x_train = df_train.to_dict(orient = 'records')\n",
    "    dv = DictVectorizer(sparse = False)\n",
    "    x_train = dv.fit_transform(x_train)\n",
    "    model = LogisticRegression(random_state = 120,C=C)\n",
    "    model.fit(x_train,y_train)\n",
    "    return dv,model"
   ]
  },
  {
   "cell_type": "code",
   "execution_count": 30,
   "id": "57e80017-98c1-47a4-bcd8-4ba801e6403c",
   "metadata": {},
   "outputs": [],
   "source": [
    "def predict(dv,model,df_val):\n",
    "    x_val = df_val.to_dict(orient = 'records')\n",
    "    x_val = dv.transform(x_val)\n",
    "    y_pred = model.predict_proba(x_val)[:,1]\n",
    "    return y_pred"
   ]
  },
  {
   "cell_type": "code",
   "execution_count": 32,
   "id": "c7f6c5f6-5a01-48ae-a840-d2cd9503e0ff",
   "metadata": {},
   "outputs": [
    {
     "name": "stdout",
     "output_type": "stream",
     "text": [
      "performing cross validation with C = 1 and k = 10\n",
      "auc on fold 0 is 0.8553150269541778\n",
      "auc on fold 1 is 0.8304925987347214\n",
      "auc on fold 2 is 0.8503963243546577\n",
      "auc on fold 3 is 0.8400734089270498\n",
      "auc on fold 4 is 0.8257686900177273\n",
      "auc on fold 5 is 0.8574319696120555\n",
      "auc on fold 6 is 0.8590687072614783\n",
      "auc on fold 7 is 0.8620446108866331\n",
      "auc on fold 8 is 0.829062082542361\n",
      "auc on fold 9 is 0.8374433106575964\n",
      "Reg_param = 1: auc = 0.8316966856589645\n"
     ]
    }
   ],
   "source": [
    "print(f\"performing cross validation with C = {C} and k = {n_splits}\")\n",
    "warnings.filterwarnings(\"ignore\", category=ConvergenceWarning)\n",
    "scores = []\n",
    "kfold = KFold(n_splits = n_splits,shuffle = True, random_state = 120)\n",
    "df_full_train = df_train_full.copy()\n",
    "fold = 0\n",
    "for train_idx,val_idx in (kfold.split(df_full_train)):\n",
    "    df_train = df_full_train.iloc[train_idx]\n",
    "    df_val = df_full_train.iloc[val_idx]\n",
    "    y_train = df_train.churn.values\n",
    "    y_val = df_val.churn.values\n",
    "    del df_train['churn']\n",
    "    del df_val['churn']\n",
    "    dv,model = train(df_train,y_train,C)\n",
    "    y_pred = predict(dv,model,df_val)\n",
    "    auc = roc_auc_score(y_val,y_pred)\n",
    "    scores.append(auc)\n",
    "    print(f\"auc on fold {fold} is {auc}\")\n",
    "    fold+=1\n",
    "print(f'Reg_param = {C}: auc = {np.mean(scores) +- np.std(scores)}')"
   ]
  },
  {
   "cell_type": "markdown",
   "id": "cb132040-ef90-42f9-98a6-66d60956ad6f",
   "metadata": {},
   "source": [
    "### Training the Final model"
   ]
  },
  {
   "cell_type": "code",
   "execution_count": 33,
   "id": "8e551bae-df9d-418c-b57d-24d3a932a7f0",
   "metadata": {},
   "outputs": [
    {
     "name": "stdout",
     "output_type": "stream",
     "text": [
      "auc =  0.838290858870127\n"
     ]
    }
   ],
   "source": [
    "y_full_train = df_train_full.churn.values\n",
    "del df_train_full['churn']\n",
    "dv,model = train(df_train_full,y_full_train,C=0.01)\n",
    "y_pred = predict(dv,model,df_test)\n",
    "auc = roc_auc_score(y_test,y_pred)\n",
    "print(\"auc = \",auc)"
   ]
  },
  {
   "cell_type": "code",
   "execution_count": 35,
   "id": "d2ee49e2-50b5-45f7-96bc-380ce0df3d39",
   "metadata": {},
   "outputs": [
    {
     "name": "stdout",
     "output_type": "stream",
     "text": [
      "Model Saved to the path Churn_Prediction_model_C= 1.bin\n"
     ]
    }
   ],
   "source": [
    "with open(output_file,'wb') as f_out:\n",
    "    pickle.dump((dv,model),f_out)\n",
    "print(f\"Model Saved to the path {output_file}\")\n"
   ]
  }
 ],
 "metadata": {
  "kernelspec": {
   "display_name": "Python 3 (ipykernel)",
   "language": "python",
   "name": "python3"
  },
  "language_info": {
   "codemirror_mode": {
    "name": "ipython",
    "version": 3
   },
   "file_extension": ".py",
   "mimetype": "text/x-python",
   "name": "python",
   "nbconvert_exporter": "python",
   "pygments_lexer": "ipython3",
   "version": "3.12.1"
  }
 },
 "nbformat": 4,
 "nbformat_minor": 5
}
