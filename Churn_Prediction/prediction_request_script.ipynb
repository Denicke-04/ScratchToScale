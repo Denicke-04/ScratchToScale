{
 "cells": [
  {
   "cell_type": "code",
   "execution_count": 2,
   "id": "3023e46e-82d2-4d52-b7f3-9175997652fa",
   "metadata": {},
   "outputs": [],
   "source": [
    "import requests"
   ]
  },
  {
   "cell_type": "code",
   "execution_count": 3,
   "id": "c858ecba-9f1a-454b-a370-6bffcafd34d3",
   "metadata": {},
   "outputs": [],
   "source": [
    "url = 'http://0.0.0.0:9601/predict'"
   ]
  },
  {
   "cell_type": "code",
   "execution_count": 9,
   "id": "3daba504-c3b3-4c43-b125-8a022a1688a5",
   "metadata": {},
   "outputs": [],
   "source": [
    "customer = {\n",
    " \"gender\": \"Female\",\n",
    " \"SeniorCitizen\": 0,\n",
    " \"Partner\": \"Yes\",\n",
    " \"Dependents\": \"No\",\n",
    " \"tenure\": 3,\n",
    " \"PhoneService\": \"Yes\",\n",
    " \"MultipleLines\": \"Yes\",\n",
    " \"InternetService\": \"Fiber optic\",\n",
    " \"OnlineSecurity\": \"No\",\n",
    " \"OnlineBackup\": \"No\",\n",
    " \"DeviceProtection\": \"Yes\",\n",
    " \"TechSupport\": \"No\",\n",
    " \"StreamingTV\": \"Yes\",\n",
    " \"StreamingMovies\": \"Yes\",\n",
    " \"Contract\": \"Month-to-month\",\n",
    " \"PaperlessBilling\": \"Yes\",\n",
    " \"PaymentMethod\": \"Electronic check\",\n",
    " \"MonthlyCharges\": 10.5,\n",
    " \"TotalCharges\": 31.5\n",
    " }\n"
   ]
  },
  {
   "cell_type": "code",
   "execution_count": 10,
   "id": "cb7e01a8-8529-448b-a69e-0f38f68b9d7a",
   "metadata": {
    "scrolled": true
   },
   "outputs": [
    {
     "data": {
      "text/plain": [
       "{'Churn Decision': True, 'Churn Probability': 0.6885443209617388}"
      ]
     },
     "execution_count": 10,
     "metadata": {},
     "output_type": "execute_result"
    }
   ],
   "source": [
    "requests.post(url, json = customer).json()"
   ]
  },
  {
   "cell_type": "code",
   "execution_count": null,
   "id": "a4e0c7c8-9b66-4562-acb6-e5a05520cc25",
   "metadata": {},
   "outputs": [],
   "source": []
  }
 ],
 "metadata": {
  "kernelspec": {
   "display_name": "Python 3 (ipykernel)",
   "language": "python",
   "name": "python3"
  },
  "language_info": {
   "codemirror_mode": {
    "name": "ipython",
    "version": 3
   },
   "file_extension": ".py",
   "mimetype": "text/x-python",
   "name": "python",
   "nbconvert_exporter": "python",
   "pygments_lexer": "ipython3",
   "version": "3.12.1"
  }
 },
 "nbformat": 4,
 "nbformat_minor": 5
}
