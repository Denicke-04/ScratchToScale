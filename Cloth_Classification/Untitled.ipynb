{
 "cells": [
  {
   "cell_type": "code",
   "execution_count": 11,
   "id": "009b82c9-8f72-490c-9d86-ae414e025eba",
   "metadata": {},
   "outputs": [
    {
     "data": {
      "text/plain": [
       "{'dense_7': <tf.Tensor: shape=(1, 10), dtype=float32, numpy=\n",
       " array([[-0.99701434,  2.564598  , -0.6685115 ,  1.2119223 , -1.0608624 ,\n",
       "         -1.585297  ,  1.8948718 , -0.961256  , -0.664027  ,  0.1305011 ]],\n",
       "       dtype=float32)>}"
      ]
     },
     "execution_count": 11,
     "metadata": {},
     "output_type": "execute_result"
    }
   ],
   "source": [
    "from keras.layers import TFSMLayer\n",
    "import keras\n",
    "from tensorflow.keras.preprocessing.image import load_img\n",
    "from tensorflow.keras.applications.xception import preprocess_input\n",
    "import numpy as np\n",
    "img = load_img('test/hat/2a12baab-f020-42e3-8e6b-5d82e3ed0b55.jpg',target_size = (299,299))\n",
    "x= np.array(img)\n",
    "X = np.array([x])\n",
    "X = preprocess_input(X)\n",
    "model = TFSMLayer(\"xception_v1_03_0.827\", call_endpoint=\"serving_default\")\n",
    "# Use like:\n",
    "output = model(X)\n",
    "output"
   ]
  },
  {
   "cell_type": "code",
   "execution_count": 12,
   "id": "27c71e01-74ea-487b-b0b0-b83684abc9fe",
   "metadata": {},
   "outputs": [
    {
     "name": "stderr",
     "output_type": "stream",
     "text": [
      "WARNING: All log messages before absl::InitializeLog() is called are written to STDERR\n",
      "W0000 00:00:1752779070.627886   42378 tf_tfl_flatbuffer_helpers.cc:365] Ignored output_format.\n",
      "W0000 00:00:1752779070.627922   42378 tf_tfl_flatbuffer_helpers.cc:368] Ignored drop_control_dependency.\n",
      "2025-07-17 19:04:30.629200: I tensorflow/cc/saved_model/reader.cc:83] Reading SavedModel from: xception_v1_03_0.827\n",
      "2025-07-17 19:04:30.647080: I tensorflow/cc/saved_model/reader.cc:52] Reading meta graph with tags { serve }\n",
      "2025-07-17 19:04:30.647094: I tensorflow/cc/saved_model/reader.cc:147] Reading SavedModel debug info (if present) from: xception_v1_03_0.827\n",
      "I0000 00:00:1752779070.727123   42378 mlir_graph_optimization_pass.cc:425] MLIR V1 optimization pass is not enabled\n",
      "2025-07-17 19:04:30.738845: I tensorflow/cc/saved_model/loader.cc:236] Restoring SavedModel bundle.\n",
      "2025-07-17 19:04:31.076905: I tensorflow/cc/saved_model/loader.cc:220] Running initialization op on SavedModel bundle at path: xception_v1_03_0.827\n",
      "2025-07-17 19:04:31.185390: I tensorflow/cc/saved_model/loader.cc:471] SavedModel load for tags { serve }; Status: success: OK. Took 556194 microseconds.\n",
      "2025-07-17 19:04:31.380982: I tensorflow/compiler/mlir/tensorflow/utils/dump_mlir_util.cc:269] disabling MLIR crash reproducer, set env var `MLIR_CRASH_REPRODUCER_DIRECTORY` to enable.\n"
     ]
    }
   ],
   "source": [
    "import tensorflow as tf\n",
    "\n",
    "# From saved model folder\n",
    "converter = tf.lite.TFLiteConverter.from_saved_model(\"xception_v1_03_0.827\")\n",
    "tflite_model = converter.convert()\n",
    "\n",
    "# Save as .tflite\n",
    "with open(\"clothing_model.tflite\", \"wb\") as f:\n",
    "    f.write(tflite_model)\n"
   ]
  },
  {
   "cell_type": "code",
   "execution_count": 13,
   "id": "0675d068-6278-4f16-b330-2467510e5b44",
   "metadata": {},
   "outputs": [],
   "source": [
    "import tensorflow.lite as tflite"
   ]
  },
  {
   "cell_type": "code",
   "execution_count": 14,
   "id": "a9b3c868-234f-4cf1-8ea0-d8720c0c0861",
   "metadata": {},
   "outputs": [
    {
     "name": "stderr",
     "output_type": "stream",
     "text": [
      "/usr/local/python/3.12.1/lib/python3.12/site-packages/tensorflow/lite/python/interpreter.py:457: UserWarning:     Warning: tf.lite.Interpreter is deprecated and is scheduled for deletion in\n",
      "    TF 2.20. Please use the LiteRT interpreter from the ai_edge_litert package.\n",
      "    See the [migration guide](https://ai.google.dev/edge/litert/migration)\n",
      "    for details.\n",
      "    \n",
      "  warnings.warn(_INTERPRETER_DELETION_WARNING)\n",
      "INFO: Created TensorFlow Lite XNNPACK delegate for CPU.\n"
     ]
    }
   ],
   "source": [
    "interpreter = tflite.Interpreter(model_path = 'clothing_model.tflite')\n",
    "interpreter.allocate_tensors()"
   ]
  },
  {
   "cell_type": "code",
   "execution_count": 22,
   "id": "a651b96b-79b7-4f6a-b236-55762ba9eac6",
   "metadata": {},
   "outputs": [
    {
     "data": {
      "text/plain": [
       "array([[-0.9970156 ,  2.5646005 , -0.6685142 ,  1.2119219 , -1.0608639 ,\n",
       "        -1.5852971 ,  1.894876  , -0.961256  , -0.66402775,  0.13050205]],\n",
       "      dtype=float32)"
      ]
     },
     "execution_count": 22,
     "metadata": {},
     "output_type": "execute_result"
    }
   ],
   "source": [
    "input_index = interpreter.get_input_details()[0]['index']\n",
    "output_index = interpreter.get_output_details()[0]['index']\n",
    "interpreter.set_tensor(input_index,X)\n",
    "interpreter.invoke()\n",
    "interpreter.get_tensor(output_index)"
   ]
  },
  {
   "cell_type": "code",
   "execution_count": 27,
   "id": "c76c1c61-24f4-4a55-8148-81cead3c93c2",
   "metadata": {},
   "outputs": [
    {
     "data": {
      "text/plain": [
       "{'dress': np.float32(-0.9970156),\n",
       " 'hat': np.float32(2.5646005),\n",
       " 'longsleeve': np.float32(-0.6685142),\n",
       " 'outwear': np.float32(1.2119219),\n",
       " 'pants': np.float32(-1.0608639),\n",
       " 'shirt': np.float32(-1.5852971),\n",
       " 'shoes': np.float32(1.894876),\n",
       " 'shorts': np.float32(-0.961256),\n",
       " 'skirt': np.float32(-0.66402775),\n",
       " 't-shirt': np.float32(0.13050205)}"
      ]
     },
     "execution_count": 27,
     "metadata": {},
     "output_type": "execute_result"
    }
   ],
   "source": [
    "classes = ['dress',\n",
    " 'hat',\n",
    " 'longsleeve',\n",
    " 'outwear',\n",
    " 'pants',\n",
    " 'shirt',\n",
    " 'shoes',\n",
    " 'shorts',\n",
    " 'skirt',\n",
    " 't-shirt']\n",
    "dict(zip(classes,interpreter.get_tensor(output_index)[0]))"
   ]
  },
  {
   "cell_type": "markdown",
   "id": "aa94dbb7-977e-4696-a059-84627de18add",
   "metadata": {},
   "source": [
    "### REmoving TF dependency"
   ]
  },
  {
   "cell_type": "code",
   "execution_count": 7,
   "id": "5543b9b0-db1a-491c-8ee0-dcd140e9fef0",
   "metadata": {},
   "outputs": [
    {
     "name": "stdout",
     "output_type": "stream",
     "text": [
      "Requirement already satisfied: ai-edge-litert in /usr/local/python/3.12.1/lib/python3.12/site-packages (1.4.0)\n",
      "Requirement already satisfied: backports.strenum in /usr/local/python/3.12.1/lib/python3.12/site-packages (from ai-edge-litert) (1.2.8)\n",
      "Requirement already satisfied: flatbuffers in /usr/local/python/3.12.1/lib/python3.12/site-packages (from ai-edge-litert) (25.2.10)\n",
      "Requirement already satisfied: numpy>=1.23.2 in /usr/local/python/3.12.1/lib/python3.12/site-packages (from ai-edge-litert) (2.1.3)\n",
      "Requirement already satisfied: tqdm in /usr/local/python/3.12.1/lib/python3.12/site-packages (from ai-edge-litert) (4.67.1)\n",
      "Requirement already satisfied: typing-extensions in /home/codespace/.local/lib/python3.12/site-packages (from ai-edge-litert) (4.13.2)\n"
     ]
    }
   ],
   "source": [
    "!pip install ai-edge-litert"
   ]
  },
  {
   "cell_type": "code",
   "execution_count": 8,
   "id": "8516bce8-00f0-414a-b04e-213c8a063597",
   "metadata": {},
   "outputs": [],
   "source": [
    "from PIL import Image\n",
    "import numpy as np\n",
    "from ai_edge_litert.interpreter import Interpreter\n",
    "#import tensorflow.lite as tflite\n",
    "hat_url = 'test/hat/2a12baab-f020-42e3-8e6b-5d82e3ed0b55.jpg'\n",
    "with Image.open(hat_url) as img:\n",
    "    img = img.resize((299,299),Image.NEAREST)\n",
    "x= np.array(img, dtype = 'float32')\n",
    "X = np.array([x])"
   ]
  },
  {
   "cell_type": "code",
   "execution_count": 9,
   "id": "7989bed8-07f2-4304-899a-ddea1c556417",
   "metadata": {},
   "outputs": [],
   "source": [
    "def preprocess_input(x):\n",
    "    x /= 127.5\n",
    "    x -= 1.\n",
    "    return x"
   ]
  },
  {
   "cell_type": "code",
   "execution_count": 10,
   "id": "47022642-4a72-4b68-9e04-a75d642c4de1",
   "metadata": {},
   "outputs": [],
   "source": [
    "X= preprocess_input(X)"
   ]
  },
  {
   "cell_type": "code",
   "execution_count": 11,
   "id": "9c000056-3a1a-4547-986e-8d5a99f6f6ee",
   "metadata": {},
   "outputs": [
    {
     "name": "stderr",
     "output_type": "stream",
     "text": [
      "INFO: Created TensorFlow Lite XNNPACK delegate for CPU.\n"
     ]
    },
    {
     "name": "stdout",
     "output_type": "stream",
     "text": [
      "Predicted class: Hat (score: 2.5646)\n"
     ]
    }
   ],
   "source": [
    "interpreter = Interpreter(model_path = 'clothing_model.tflite')\n",
    "interpreter.allocate_tensors()\n",
    "input_index = interpreter.get_input_details()[0]['index']\n",
    "output_index = interpreter.get_output_details()[0]['index']\n",
    "interpreter.set_tensor(input_index,X)\n",
    "interpreter.invoke()\n",
    "output = interpreter.get_tensor(output_index)\n",
    "classes = ['dress', 'hat', 'longsleeve', 'outwear', 'pants', 'shirt', 'shoes', 'shorts', 'skirt', 't-shirt']\n",
    "#dict(zip(classes,interpreter.get_tensor(output_index)[0]))\n",
    "# Find the index with the highest score\n",
    "pred_index = np.argmax(output[0])\n",
    "# Map to class\n",
    "predicted_class = classes[pred_index].capitalize()\n",
    "predicted_score = output[0][pred_index]\n",
    "\n",
    "# Display\n",
    "print(f\"Predicted class: {predicted_class} (score: {predicted_score:.4f})\")"
   ]
  },
  {
   "cell_type": "code",
   "execution_count": null,
   "id": "26260833-1e92-43fe-bd7d-456da8800242",
   "metadata": {},
   "outputs": [],
   "source": []
  }
 ],
 "metadata": {
  "kernelspec": {
   "display_name": "Python 3 (ipykernel)",
   "language": "python",
   "name": "python3"
  },
  "language_info": {
   "codemirror_mode": {
    "name": "ipython",
    "version": 3
   },
   "file_extension": ".py",
   "mimetype": "text/x-python",
   "name": "python",
   "nbconvert_exporter": "python",
   "pygments_lexer": "ipython3",
   "version": "3.12.1"
  }
 },
 "nbformat": 4,
 "nbformat_minor": 5
}
