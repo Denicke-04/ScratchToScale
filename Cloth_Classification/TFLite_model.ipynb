{
 "cells": [
  {
   "cell_type": "markdown",
   "id": "24766def-6a05-480b-95c4-93df9389a20c",
   "metadata": {},
   "source": [
    "## Converting TF model to TF Lite model"
   ]
  },
  {
   "cell_type": "markdown",
   "id": "9cfcfee5-82f5-4a4f-8a8c-e9021d38a090",
   "metadata": {},
   "source": [
    "### Import Packages"
   ]
  },
  {
   "cell_type": "code",
   "execution_count": 1,
   "id": "2138ed1a-b956-4b98-9451-e8dc733c128b",
   "metadata": {},
   "outputs": [
    {
     "name": "stderr",
     "output_type": "stream",
     "text": [
      "2025-07-18 09:00:21.562578: I external/local_xla/xla/tsl/cuda/cudart_stub.cc:32] Could not find cuda drivers on your machine, GPU will not be used.\n",
      "2025-07-18 09:00:21.566033: I external/local_xla/xla/tsl/cuda/cudart_stub.cc:32] Could not find cuda drivers on your machine, GPU will not be used.\n",
      "2025-07-18 09:00:21.574952: E external/local_xla/xla/stream_executor/cuda/cuda_fft.cc:467] Unable to register cuFFT factory: Attempting to register factory for plugin cuFFT when one has already been registered\n",
      "WARNING: All log messages before absl::InitializeLog() is called are written to STDERR\n",
      "E0000 00:00:1752829221.589426    9927 cuda_dnn.cc:8579] Unable to register cuDNN factory: Attempting to register factory for plugin cuDNN when one has already been registered\n",
      "E0000 00:00:1752829221.593657    9927 cuda_blas.cc:1407] Unable to register cuBLAS factory: Attempting to register factory for plugin cuBLAS when one has already been registered\n",
      "W0000 00:00:1752829221.605937    9927 computation_placer.cc:177] computation placer already registered. Please check linkage and avoid linking the same target more than once.\n",
      "W0000 00:00:1752829221.605948    9927 computation_placer.cc:177] computation placer already registered. Please check linkage and avoid linking the same target more than once.\n",
      "W0000 00:00:1752829221.605950    9927 computation_placer.cc:177] computation placer already registered. Please check linkage and avoid linking the same target more than once.\n",
      "W0000 00:00:1752829221.605952    9927 computation_placer.cc:177] computation placer already registered. Please check linkage and avoid linking the same target more than once.\n",
      "2025-07-18 09:00:21.610163: I tensorflow/core/platform/cpu_feature_guard.cc:210] This TensorFlow binary is optimized to use available CPU instructions in performance-critical operations.\n",
      "To enable the following instructions: AVX2 FMA, in other operations, rebuild TensorFlow with the appropriate compiler flags.\n"
     ]
    }
   ],
   "source": [
    "from keras.layers import TFSMLayer\n",
    "from tensorflow.keras.preprocessing.image import load_img\n",
    "from tensorflow.keras.applications.xception import preprocess_input\n",
    "import numpy as np\n",
    "import tensorflow as tf\n",
    "import tensorflow.lite as tflite"
   ]
  },
  {
   "cell_type": "markdown",
   "id": "13797801-10d7-411d-9bea-db8320ffe48a",
   "metadata": {},
   "source": [
    "### Test the trained model for inference"
   ]
  },
  {
   "cell_type": "code",
   "execution_count": 3,
   "id": "009b82c9-8f72-490c-9d86-ae414e025eba",
   "metadata": {},
   "outputs": [
    {
     "name": "stdout",
     "output_type": "stream",
     "text": [
      "Predicted class: Hat (score: 4.8221)\n"
     ]
    }
   ],
   "source": [
    "img = load_img('test/hat/2a12baab-f020-42e3-8e6b-5d82e3ed0b55.jpg',target_size = (299,299))\n",
    "x= np.array(img)\n",
    "X = np.array([x])\n",
    "X = preprocess_input(X)\n",
    "model = TFSMLayer(\"xception_v1_34_0.883\", call_endpoint=\"serving_default\")\n",
    "output_dict = model(X)\n",
    "output = output_dict['dense_7'].numpy().squeeze()\n",
    "classes = ['dress', 'hat', 'longsleeve', 'outwear', 'pants', 'shirt', 'shoes', 'shorts', 'skirt', 't-shirt']\n",
    "pred_index = np.argmax(output)\n",
    "predicted_class = classes[pred_index].capitalize()\n",
    "predicted_score = output[pred_index]\n",
    "print(f\"Predicted class: {predicted_class} (score: {predicted_score:.4f})\")"
   ]
  },
  {
   "cell_type": "markdown",
   "id": "aba67ba3-df3e-4e32-8896-27c983785267",
   "metadata": {},
   "source": [
    "### Converting model to TFLite"
   ]
  },
  {
   "cell_type": "code",
   "execution_count": 4,
   "id": "27c71e01-74ea-487b-b0b0-b83684abc9fe",
   "metadata": {},
   "outputs": [
    {
     "name": "stderr",
     "output_type": "stream",
     "text": [
      "WARNING: All log messages before absl::InitializeLog() is called are written to STDERR\n",
      "W0000 00:00:1752829268.819278    9927 tf_tfl_flatbuffer_helpers.cc:365] Ignored output_format.\n",
      "W0000 00:00:1752829268.819319    9927 tf_tfl_flatbuffer_helpers.cc:368] Ignored drop_control_dependency.\n",
      "2025-07-18 09:01:08.820171: I tensorflow/cc/saved_model/reader.cc:83] Reading SavedModel from: xception_v1_34_0.883\n",
      "2025-07-18 09:01:08.835572: I tensorflow/cc/saved_model/reader.cc:52] Reading meta graph with tags { serve }\n",
      "2025-07-18 09:01:08.835587: I tensorflow/cc/saved_model/reader.cc:147] Reading SavedModel debug info (if present) from: xception_v1_34_0.883\n",
      "I0000 00:00:1752829268.915065    9927 mlir_graph_optimization_pass.cc:425] MLIR V1 optimization pass is not enabled\n",
      "2025-07-18 09:01:08.926908: I tensorflow/cc/saved_model/loader.cc:236] Restoring SavedModel bundle.\n",
      "2025-07-18 09:01:09.263435: I tensorflow/cc/saved_model/loader.cc:220] Running initialization op on SavedModel bundle at path: xception_v1_34_0.883\n",
      "2025-07-18 09:01:09.357329: I tensorflow/cc/saved_model/loader.cc:471] SavedModel load for tags { serve }; Status: success: OK. Took 537161 microseconds.\n",
      "2025-07-18 09:01:09.450785: I tensorflow/compiler/mlir/tensorflow/utils/dump_mlir_util.cc:269] disabling MLIR crash reproducer, set env var `MLIR_CRASH_REPRODUCER_DIRECTORY` to enable.\n"
     ]
    }
   ],
   "source": [
    "converter = tf.lite.TFLiteConverter.from_saved_model(\"xception_v1_34_0.883\")\n",
    "tflite_model = converter.convert()\n",
    "with open(\"clothing_model.tflite\", \"wb\") as f:\n",
    "    f.write(tflite_model)"
   ]
  },
  {
   "cell_type": "markdown",
   "id": "c11e668a-a2c0-4c64-a8fc-c97e7c5f0417",
   "metadata": {},
   "source": [
    "#### Testing the TFLite model"
   ]
  },
  {
   "cell_type": "code",
   "execution_count": 5,
   "id": "a9b3c868-234f-4cf1-8ea0-d8720c0c0861",
   "metadata": {},
   "outputs": [
    {
     "name": "stderr",
     "output_type": "stream",
     "text": [
      "/usr/local/python/3.12.1/lib/python3.12/site-packages/tensorflow/lite/python/interpreter.py:457: UserWarning:     Warning: tf.lite.Interpreter is deprecated and is scheduled for deletion in\n",
      "    TF 2.20. Please use the LiteRT interpreter from the ai_edge_litert package.\n",
      "    See the [migration guide](https://ai.google.dev/edge/litert/migration)\n",
      "    for details.\n",
      "    \n",
      "  warnings.warn(_INTERPRETER_DELETION_WARNING)\n",
      "INFO: Created TensorFlow Lite XNNPACK delegate for CPU.\n"
     ]
    }
   ],
   "source": [
    "interpreter = tflite.Interpreter(model_path = 'clothing_model.tflite')\n",
    "interpreter.allocate_tensors()"
   ]
  },
  {
   "cell_type": "code",
   "execution_count": 6,
   "id": "a651b96b-79b7-4f6a-b236-55762ba9eac6",
   "metadata": {},
   "outputs": [
    {
     "name": "stdout",
     "output_type": "stream",
     "text": [
      "Predicted class: Hat (score: 4.8221)\n"
     ]
    }
   ],
   "source": [
    "input_index = interpreter.get_input_details()[0]['index']\n",
    "output_index = interpreter.get_output_details()[0]['index']\n",
    "interpreter.set_tensor(input_index,X)\n",
    "interpreter.invoke()\n",
    "output = interpreter.get_tensor(output_index)\n",
    "classes = ['dress', 'hat', 'longsleeve', 'outwear', 'pants', 'shirt', 'shoes', 'shorts', 'skirt', 't-shirt']\n",
    "pred_index = np.argmax(output[0])\n",
    "predicted_class = classes[pred_index].capitalize()\n",
    "predicted_score = output[0][pred_index]\n",
    "print(f\"Predicted class: {predicted_class} (score: {predicted_score:.4f})\")"
   ]
  },
  {
   "cell_type": "markdown",
   "id": "aa94dbb7-977e-4696-a059-84627de18add",
   "metadata": {},
   "source": [
    "### Removing TF dependency completely"
   ]
  },
  {
   "cell_type": "markdown",
   "id": "60df9966-487f-44ca-b220-8a4e759302af",
   "metadata": {},
   "source": [
    "##### Restart the kernel to remove all pre-imported packages"
   ]
  },
  {
   "cell_type": "code",
   "execution_count": 1,
   "id": "af41c8ab-edec-49e9-963f-38a07c9d03e6",
   "metadata": {},
   "outputs": [
    {
     "name": "stdout",
     "output_type": "stream",
     "text": [
      "Requirement already satisfied: ai-edge-litert in /usr/local/python/3.12.1/lib/python3.12/site-packages (1.4.0)\n",
      "Requirement already satisfied: backports.strenum in /usr/local/python/3.12.1/lib/python3.12/site-packages (from ai-edge-litert) (1.2.8)\n",
      "Requirement already satisfied: flatbuffers in /usr/local/python/3.12.1/lib/python3.12/site-packages (from ai-edge-litert) (25.2.10)\n",
      "Requirement already satisfied: numpy>=1.23.2 in /usr/local/python/3.12.1/lib/python3.12/site-packages (from ai-edge-litert) (2.1.3)\n",
      "Requirement already satisfied: tqdm in /usr/local/python/3.12.1/lib/python3.12/site-packages (from ai-edge-litert) (4.67.1)\n",
      "Requirement already satisfied: typing-extensions in /home/codespace/.local/lib/python3.12/site-packages (from ai-edge-litert) (4.13.2)\n"
     ]
    }
   ],
   "source": [
    "!pip install ai-edge-litert"
   ]
  },
  {
   "cell_type": "code",
   "execution_count": 2,
   "id": "4ec25b1c-c8a8-41e8-ac89-95e84ff81280",
   "metadata": {},
   "outputs": [],
   "source": [
    "from PIL import Image\n",
    "import numpy as np\n",
    "from ai_edge_litert.interpreter import Interpreter"
   ]
  },
  {
   "cell_type": "code",
   "execution_count": 3,
   "id": "9ba3cbd2-dd48-427d-b62b-1e50c804b57d",
   "metadata": {},
   "outputs": [],
   "source": [
    "def preprocess_input(x):\n",
    "    x /= 127.5\n",
    "    x -= 1.\n",
    "    return x"
   ]
  },
  {
   "cell_type": "code",
   "execution_count": 4,
   "id": "8516bce8-00f0-414a-b04e-213c8a063597",
   "metadata": {},
   "outputs": [],
   "source": [
    "hat_url = 'test/hat/2a12baab-f020-42e3-8e6b-5d82e3ed0b55.jpg'\n",
    "with Image.open(hat_url) as img:\n",
    "    img = img.resize((299,299),Image.NEAREST)\n",
    "x= np.array(img, dtype = 'float32')\n",
    "X = np.array([x])\n",
    "X= preprocess_input(X)"
   ]
  },
  {
   "cell_type": "code",
   "execution_count": 5,
   "id": "9c000056-3a1a-4547-986e-8d5a99f6f6ee",
   "metadata": {},
   "outputs": [
    {
     "name": "stderr",
     "output_type": "stream",
     "text": [
      "INFO: Created TensorFlow Lite XNNPACK delegate for CPU.\n"
     ]
    },
    {
     "name": "stdout",
     "output_type": "stream",
     "text": [
      "Predicted class: Hat (score: 4.8221)\n"
     ]
    }
   ],
   "source": [
    "interpreter = Interpreter(model_path = 'clothing_model.tflite')\n",
    "interpreter.allocate_tensors()\n",
    "input_index = interpreter.get_input_details()[0]['index']\n",
    "output_index = interpreter.get_output_details()[0]['index']\n",
    "interpreter.set_tensor(input_index,X)\n",
    "interpreter.invoke()\n",
    "output = interpreter.get_tensor(output_index)\n",
    "classes = ['dress', 'hat', 'longsleeve', 'outwear', 'pants', 'shirt', 'shoes', 'shorts', 'skirt', 't-shirt']\n",
    "pred_index = np.argmax(output[0])\n",
    "predicted_class = classes[pred_index].capitalize()\n",
    "predicted_score = output[0][pred_index]\n",
    "print(f\"Predicted class: {predicted_class} (score: {predicted_score:.4f})\")"
   ]
  }
 ],
 "metadata": {
  "kernelspec": {
   "display_name": "Python 3 (ipykernel)",
   "language": "python",
   "name": "python3"
  },
  "language_info": {
   "codemirror_mode": {
    "name": "ipython",
    "version": 3
   },
   "file_extension": ".py",
   "mimetype": "text/x-python",
   "name": "python",
   "nbconvert_exporter": "python",
   "pygments_lexer": "ipython3",
   "version": "3.12.1"
  }
 },
 "nbformat": 4,
 "nbformat_minor": 5
}
