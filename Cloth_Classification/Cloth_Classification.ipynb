{
 "cells": [
  {
   "cell_type": "code",
   "execution_count": null,
   "id": "606f87a3-32c6-422d-8dd6-dbec4c843393",
   "metadata": {},
   "outputs": [],
   "source": []
  }
 ],
 "metadata": {
  "kernelspec": {
   "display_name": "",
   "name": ""
  },
  "language_info": {
   "name": ""
  }
 },
 "nbformat": 4,
 "nbformat_minor": 5
}
