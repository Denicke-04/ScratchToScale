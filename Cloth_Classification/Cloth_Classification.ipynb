{
 "cells": [
  {
   "cell_type": "code",
   "execution_count": 3,
   "id": "606f87a3-32c6-422d-8dd6-dbec4c843393",
   "metadata": {},
   "outputs": [],
   "source": [
    "import numpy as np\n",
    "import tensorflow as tf\n",
    "from tensorflow import keras\n",
    "from tensorflow.keras.preprocessing.image import load_img"
   ]
  },
  {
   "cell_type": "code",
   "execution_count": 7,
   "id": "ac2284c7-d29d-4152-a26c-a8cacd11c7a3",
   "metadata": {},
   "outputs": [],
   "source": [
    "path = \"train/hat/00d94e21-5891-492e-be0e-792e7338c077.jpg\"\n",
    "img = load_img(path,target_size = (299,299))"
   ]
  },
  {
   "cell_type": "code",
   "execution_count": 8,
   "id": "0128049d-a9bc-47da-9c9c-235a3fab5d9e",
   "metadata": {},
   "outputs": [],
   "source": [
    "x = np.array(img)"
   ]
  },
  {
   "cell_type": "code",
   "execution_count": 16,
   "id": "32c3fe11-4a02-4e47-9d5f-23134e1af5d0",
   "metadata": {},
   "outputs": [],
   "source": [
    "from tensorflow.keras.applications.xception import Xception,preprocess_input,decode_predictions"
   ]
  },
  {
   "cell_type": "code",
   "execution_count": 12,
   "id": "657a0d89-bd20-420a-a38b-6a040beff4b4",
   "metadata": {},
   "outputs": [
    {
     "name": "stderr",
     "output_type": "stream",
     "text": [
      "2025-07-16 18:56:42.762358: E external/local_xla/xla/stream_executor/cuda/cuda_platform.cc:51] failed call to cuInit: INTERNAL: CUDA error: Failed call to cuInit: UNKNOWN ERROR (303)\n"
     ]
    },
    {
     "name": "stdout",
     "output_type": "stream",
     "text": [
      "Downloading data from https://storage.googleapis.com/tensorflow/keras-applications/xception/xception_weights_tf_dim_ordering_tf_kernels.h5\n",
      "\u001b[1m91884032/91884032\u001b[0m \u001b[32m━━━━━━━━━━━━━━━━━━━━\u001b[0m\u001b[37m\u001b[0m \u001b[1m3s\u001b[0m 0us/step\n"
     ]
    }
   ],
   "source": [
    "model = Xception(weights = 'imagenet',input_shape = (299,299,3))"
   ]
  },
  {
   "cell_type": "code",
   "execution_count": 17,
   "id": "a9bc18e0-dde7-4834-93f7-e3e926ebc0f1",
   "metadata": {},
   "outputs": [],
   "source": [
    "X = np.array([x])\n",
    "X = preprocess_input(X)"
   ]
  },
  {
   "cell_type": "code",
   "execution_count": 18,
   "id": "c73494b9-9ff3-4499-beee-fd2f6964225a",
   "metadata": {},
   "outputs": [
    {
     "name": "stdout",
     "output_type": "stream",
     "text": [
      "\u001b[1m1/1\u001b[0m \u001b[32m━━━━━━━━━━━━━━━━━━━━\u001b[0m\u001b[37m\u001b[0m \u001b[1m1s\u001b[0m 755ms/step\n",
      "Downloading data from https://storage.googleapis.com/download.tensorflow.org/data/imagenet_class_index.json\n",
      "\u001b[1m35363/35363\u001b[0m \u001b[32m━━━━━━━━━━━━━━━━━━━━\u001b[0m\u001b[37m\u001b[0m \u001b[1m0s\u001b[0m 0us/step\n"
     ]
    },
    {
     "data": {
      "text/plain": [
       "[[('n03424325', 'gasmask', np.float32(0.15357602)),\n",
       "  ('n02769748', 'backpack', np.float32(0.08983881)),\n",
       "  ('n03709823', 'mailbag', np.float32(0.06401253)),\n",
       "  ('n03595614', 'jersey', np.float32(0.04093357)),\n",
       "  ('n02834397', 'bib', np.float32(0.024432717))]]"
      ]
     },
     "execution_count": 18,
     "metadata": {},
     "output_type": "execute_result"
    }
   ],
   "source": [
    "pred = model.predict(X)\n",
    "decode_predictions(pred)"
   ]
  },
  {
   "cell_type": "code",
   "execution_count": null,
   "id": "230605db-9bc2-4a3a-8c9d-ced133403bae",
   "metadata": {},
   "outputs": [],
   "source": []
  }
 ],
 "metadata": {
  "kernelspec": {
   "display_name": "Python 3 (ipykernel)",
   "language": "python",
   "name": "python3"
  },
  "language_info": {
   "codemirror_mode": {
    "name": "ipython",
    "version": 3
   },
   "file_extension": ".py",
   "mimetype": "text/x-python",
   "name": "python",
   "nbconvert_exporter": "python",
   "pygments_lexer": "ipython3",
   "version": "3.12.1"
  }
 },
 "nbformat": 4,
 "nbformat_minor": 5
}
