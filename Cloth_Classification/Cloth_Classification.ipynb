{
 "cells": [
  {
   "cell_type": "markdown",
   "id": "bde21527-5dfb-407e-8552-698fa8d48258",
   "metadata": {},
   "source": [
    "## Cloth Classification using CNN by Transfer Learning"
   ]
  },
  {
   "cell_type": "markdown",
   "id": "1ba7c0da-3479-4d21-b91c-3b851a509182",
   "metadata": {},
   "source": [
    "### import packages"
   ]
  },
  {
   "cell_type": "code",
   "execution_count": 5,
   "id": "606f87a3-32c6-422d-8dd6-dbec4c843393",
   "metadata": {},
   "outputs": [],
   "source": [
    "import numpy as np\n",
    "import tensorflow as tf\n",
    "from tensorflow import keras\n",
    "from tensorflow.keras.preprocessing.image import load_img,ImageDataGenerator\n",
    "from tensorflow.keras.applications.xception import Xception,preprocess_input,decode_predictions\n",
    "import matplotlib.pyplot as plt"
   ]
  },
  {
   "cell_type": "markdown",
   "id": "47f285fd-00b1-4b8a-9c69-6f79c1f39e8d",
   "metadata": {},
   "source": [
    "### Create Data generators"
   ]
  },
  {
   "cell_type": "code",
   "execution_count": 6,
   "id": "0128049d-a9bc-47da-9c9c-235a3fab5d9e",
   "metadata": {},
   "outputs": [
    {
     "name": "stdout",
     "output_type": "stream",
     "text": [
      "Found 3068 images belonging to 10 classes.\n",
      "Found 341 images belonging to 10 classes.\n",
      "Found 372 images belonging to 10 classes.\n"
     ]
    }
   ],
   "source": [
    "train_gen = ImageDataGenerator(preprocessing_function = preprocess_input)\n",
    "val_gen = ImageDataGenerator(preprocessing_function = preprocess_input)\n",
    "test_gen = ImageDataGenerator(preprocessing_function = preprocess_input)\n",
    "train_data = train_gen.flow_from_directory('train',target_size = (150,150),batch_size = 32)\n",
    "val_data = val_gen.flow_from_directory('validation',target_size = (150,150),batch_size = 32,shuffle = False)\n",
    "test_data = test_gen.flow_from_directory('test',target_size = (150,150),batch_size = 32,shuffle = False)"
   ]
  },
  {
   "cell_type": "code",
   "execution_count": 10,
   "id": "32c3fe11-4a02-4e47-9d5f-23134e1af5d0",
   "metadata": {},
   "outputs": [
    {
     "data": {
      "text/plain": [
       "{'dress': 0,\n",
       " 'hat': 1,\n",
       " 'longsleeve': 2,\n",
       " 'outwear': 3,\n",
       " 'pants': 4,\n",
       " 'shirt': 5,\n",
       " 'shoes': 6,\n",
       " 'shorts': 7,\n",
       " 'skirt': 8,\n",
       " 't-shirt': 9}"
      ]
     },
     "execution_count": 10,
     "metadata": {},
     "output_type": "execute_result"
    }
   ],
   "source": [
    "train_data.class_indices"
   ]
  },
  {
   "cell_type": "code",
   "execution_count": 16,
   "id": "51e95fdd-7fd3-4fae-83d3-b592f6a282d6",
   "metadata": {},
   "outputs": [
    {
     "data": {
      "text/plain": [
       "(32, 150, 150, 3)"
      ]
     },
     "execution_count": 16,
     "metadata": {},
     "output_type": "execute_result"
    }
   ],
   "source": [
    "X,y = next(train_data)\n",
    "X.shape"
   ]
  },
  {
   "cell_type": "markdown",
   "id": "5f083d46-816b-427a-b872-496a34a57c92",
   "metadata": {},
   "source": [
    "### Initialize Pre-trained Xception Model"
   ]
  },
  {
   "cell_type": "code",
   "execution_count": 18,
   "id": "657a0d89-bd20-420a-a38b-6a040beff4b4",
   "metadata": {},
   "outputs": [
    {
     "name": "stderr",
     "output_type": "stream",
     "text": [
      "2025-07-17 09:07:24.109029: E external/local_xla/xla/stream_executor/cuda/cuda_platform.cc:51] failed call to cuInit: INTERNAL: CUDA error: Failed call to cuInit: UNKNOWN ERROR (303)\n"
     ]
    },
    {
     "name": "stdout",
     "output_type": "stream",
     "text": [
      "Downloading data from https://storage.googleapis.com/tensorflow/keras-applications/xception/xception_weights_tf_dim_ordering_tf_kernels_notop.h5\n",
      "\u001b[1m83683744/83683744\u001b[0m \u001b[32m━━━━━━━━━━━━━━━━━━━━\u001b[0m\u001b[37m\u001b[0m \u001b[1m2s\u001b[0m 0us/step\n"
     ]
    }
   ],
   "source": [
    "base_model = Xception(weights = 'imagenet',input_shape = (150,150,3),include_top = False)\n",
    "base_model.trainable = False"
   ]
  },
  {
   "cell_type": "markdown",
   "id": "ddf6a38b-66a9-40ee-8a48-990ae19f6066",
   "metadata": {},
   "source": [
    "### Train the Model"
   ]
  },
  {
   "cell_type": "code",
   "execution_count": 25,
   "id": "a9bc18e0-dde7-4834-93f7-e3e926ebc0f1",
   "metadata": {},
   "outputs": [
    {
     "name": "stdout",
     "output_type": "stream",
     "text": [
      "Epoch 1/10\n",
      "\u001b[1m96/96\u001b[0m \u001b[32m━━━━━━━━━━━━━━━━━━━━\u001b[0m\u001b[37m\u001b[0m \u001b[1m94s\u001b[0m 955ms/step - accuracy: 0.5837 - loss: 1.5419 - val_accuracy: 0.7625 - val_loss: 0.9005\n",
      "Epoch 2/10\n",
      "\u001b[1m96/96\u001b[0m \u001b[32m━━━━━━━━━━━━━━━━━━━━\u001b[0m\u001b[37m\u001b[0m \u001b[1m90s\u001b[0m 937ms/step - accuracy: 0.8160 - loss: 0.5905 - val_accuracy: 0.7683 - val_loss: 0.8841\n",
      "Epoch 3/10\n",
      "\u001b[1m96/96\u001b[0m \u001b[32m━━━━━━━━━━━━━━━━━━━━\u001b[0m\u001b[37m\u001b[0m \u001b[1m90s\u001b[0m 940ms/step - accuracy: 0.8798 - loss: 0.3334 - val_accuracy: 0.7889 - val_loss: 0.9198\n",
      "Epoch 4/10\n",
      "\u001b[1m96/96\u001b[0m \u001b[32m━━━━━━━━━━━━━━━━━━━━\u001b[0m\u001b[37m\u001b[0m \u001b[1m141s\u001b[0m 934ms/step - accuracy: 0.8924 - loss: 0.3019 - val_accuracy: 0.7801 - val_loss: 1.0672\n",
      "Epoch 5/10\n",
      "\u001b[1m96/96\u001b[0m \u001b[32m━━━━━━━━━━━━━━━━━━━━\u001b[0m\u001b[37m\u001b[0m \u001b[1m90s\u001b[0m 933ms/step - accuracy: 0.9068 - loss: 0.2616 - val_accuracy: 0.7889 - val_loss: 1.0061\n",
      "Epoch 6/10\n",
      "\u001b[1m96/96\u001b[0m \u001b[32m━━━━━━━━━━━━━━━━━━━━\u001b[0m\u001b[37m\u001b[0m \u001b[1m90s\u001b[0m 934ms/step - accuracy: 0.9640 - loss: 0.1095 - val_accuracy: 0.7859 - val_loss: 0.8550\n",
      "Epoch 7/10\n",
      "\u001b[1m96/96\u001b[0m \u001b[32m━━━━━━━━━━━━━━━━━━━━\u001b[0m\u001b[37m\u001b[0m \u001b[1m91s\u001b[0m 952ms/step - accuracy: 0.9778 - loss: 0.0771 - val_accuracy: 0.8182 - val_loss: 0.8604\n",
      "Epoch 8/10\n",
      "\u001b[1m96/96\u001b[0m \u001b[32m━━━━━━━━━━━━━━━━━━━━\u001b[0m\u001b[37m\u001b[0m \u001b[1m90s\u001b[0m 935ms/step - accuracy: 0.9901 - loss: 0.0489 - val_accuracy: 0.8094 - val_loss: 0.8935\n",
      "Epoch 9/10\n",
      "\u001b[1m96/96\u001b[0m \u001b[32m━━━━━━━━━━━━━━━━━━━━\u001b[0m\u001b[37m\u001b[0m \u001b[1m90s\u001b[0m 934ms/step - accuracy: 0.9968 - loss: 0.0250 - val_accuracy: 0.8182 - val_loss: 0.8468\n",
      "Epoch 10/10\n",
      "\u001b[1m96/96\u001b[0m \u001b[32m━━━━━━━━━━━━━━━━━━━━\u001b[0m\u001b[37m\u001b[0m \u001b[1m91s\u001b[0m 948ms/step - accuracy: 0.9990 - loss: 0.0197 - val_accuracy: 0.7918 - val_loss: 0.9162\n"
     ]
    }
   ],
   "source": [
    "learning_rate = 0.01\n",
    "inputs = keras.Input(shape = (150,150,3))\n",
    "base_features = base_model(inputs,training = False)\n",
    "feature_vectors = keras.layers.GlobalAveragePooling2D()(base_features)\n",
    "optimizer = keras.optimizers.Adam(learning_rate = learning_rate)\n",
    "loss = keras.losses.CategoricalCrossentropy(from_logits = True)\n",
    "outputs = keras.layers.Dense(10)(feature_vectors)\n",
    "model = keras.Model(inputs,outputs)\n",
    "model.compile(optimizer=optimizer,loss=loss,metrics = ['accuracy'])\n",
    "history = model.fit(train_data,epochs = 10,validation_data = val_data)"
   ]
  },
  {
   "cell_type": "markdown",
   "id": "f29271b9-39a0-41be-933c-5c2b350d4867",
   "metadata": {},
   "source": [
    "### Analyze the accuracy curves"
   ]
  },
  {
   "cell_type": "code",
   "execution_count": 28,
   "id": "14b7ee00-5b54-40b8-8aec-5fc73a3d73c7",
   "metadata": {},
   "outputs": [
    {
     "data": {
      "text/plain": [
       "[<matplotlib.lines.Line2D at 0x76adcf76a420>]"
      ]
     },
     "execution_count": 28,
     "metadata": {},
     "output_type": "execute_result"
    },
    {
     "data": {
      "image/png": "[encoded data removed]",
      "text/plain": [
       "<Figure size 640x480 with 1 Axes>"
      ]
     },
     "metadata": {},
     "output_type": "display_data"
    }
   ],
   "source": [
    "plt.plot(history.history['accuracy'],label = 'train')\n",
    "plt.plot(history.history['val_accuracy'],label = 'val')"
   ]
  },
  {
   "cell_type": "code",
   "execution_count": null,
   "id": "2902b019-0bfe-4dfa-af0f-5df19181fd5f",
   "metadata": {},
   "outputs": [],
   "source": [
    "save_checkpoint = keras.callbacks.ModelCheckpoint(\n",
    "    \n",
    ")"
   ]
  },
  {
   "cell_type": "markdown",
   "id": "c9739bfb-d247-4c43-86fb-efd2e7bac621",
   "metadata": {},
   "source": [
    "### Tune the Hyperparameters"
   ]
  },
  {
   "cell_type": "markdown",
   "id": "6c437024-f861-4798-b83f-60c856bc771f",
   "metadata": {},
   "source": [
    "### Learning Rate"
   ]
  },
  {
   "cell_type": "code",
   "execution_count": 7,
   "id": "e8428e50-8e0a-4b0f-8f74-54cda9871725",
   "metadata": {},
   "outputs": [],
   "source": [
    "def create_model(learning_rate = 0.01):\n",
    "    base_model = Xception(weights = 'imagenet',input_shape = (150,150,3),include_top = False)\n",
    "    base_model.trainable = False\n",
    "    inputs = keras.Input(shape = (150,150,3))\n",
    "    base_features = base_model(inputs,training = False)\n",
    "    feature_vectors = keras.layers.GlobalAveragePooling2D()(base_features)\n",
    "    optimizer = keras.optimizers.Adam(learning_rate = learning_rate)\n",
    "    loss = keras.losses.CategoricalCrossentropy(from_logits = True)\n",
    "    outputs = keras.layers.Dense(10)(feature_vectors)\n",
    "    model = keras.Model(inputs,outputs)\n",
    "    model.compile(optimizer=optimizer,loss=loss,metrics = ['accuracy'])\n",
    "    return model"
   ]
  },
  {
   "cell_type": "code",
   "execution_count": null,
   "id": "66121c46-68a7-4531-8a27-c74bcc74ffb8",
   "metadata": {},
   "outputs": [
    {
     "name": "stdout",
     "output_type": "stream",
     "text": [
      "0.001\n",
      "Epoch 1/10\n",
      "\u001b[1m96/96\u001b[0m \u001b[32m━━━━━━━━━━━━━━━━━━━━\u001b[0m\u001b[37m\u001b[0m \u001b[1m96s\u001b[0m 968ms/step - accuracy: 0.5341 - loss: 1.3985 - val_accuracy: 0.7449 - val_loss: 0.7351\n",
      "Epoch 2/10\n"
     ]
    }
   ],
   "source": [
    "scores = {}\n",
    "for lr in [0.001,0.01,0.1,1]:\n",
    "    print(lr)\n",
    "    model = create_model(learning_rate = lr)\n",
    "    history = model.fit(train_data,epochs = 10,validation_data = val_data)\n",
    "    scores[lr] = history.history\n",
    "    print()\n",
    "    print()"
   ]
  },
  {
   "cell_type": "code",
   "execution_count": null,
   "id": "4b81825d-81f2-4065-8bbf-a8fcf8397932",
   "metadata": {},
   "outputs": [],
   "source": [
    "for i,hist in scores.items():\n",
    "    plt.plot(hist['val_accuracy'],label = f'val = {i}')\n",
    "    plt.plot(hist['accuracy'],label = f'train = {i}')"
   ]
  },
  {
   "cell_type": "markdown",
   "id": "4524faaf-084f-46e8-baad-ada64df586fe",
   "metadata": {},
   "source": [
    "### No of nodes in inner dense layer"
   ]
  },
  {
   "cell_type": "code",
   "execution_count": null,
   "id": "0ea8d2dd-e1a2-4ea2-8eac-a020bd397021",
   "metadata": {},
   "outputs": [],
   "source": [
    "def create_model(learning_rate = 0.01,inner_nodes = 10):\n",
    "    base_model = Xception(weights = 'imagenet',input_shape = (150,150,3),include_top = False)\n",
    "    base_model.trainable = False\n",
    "    inputs = keras.Input(shape = (150,150,3))\n",
    "    base_features = base_model(inputs,training = False)\n",
    "    feature_vectors = keras.layers.GlobalAveragePooling2D()(base_features)\n",
    "    optimizer = keras.optimizers.Adam(learning_rate = learning_rate)\n",
    "    loss = keras.losses.CategoricalCrossentropy(from_logits = True)\n",
    "    inner = keras.layers.Dense(inner_nodes,activation = 'relu')(feature_vectors)\n",
    "    outputs = keras.layers.Dense(10)(inner)\n",
    "    model = keras.Model(inputs,outputs)\n",
    "    model.compile(optimizer=optimizer,loss=loss,metrics = ['accuracy'])\n",
    "    return model"
   ]
  },
  {
   "cell_type": "code",
   "execution_count": null,
   "id": "9babeb92-44e4-4d30-a37a-57af37152bda",
   "metadata": {},
   "outputs": [],
   "source": [
    "scores = {}\n",
    "lr = 0.01\n",
    "for n in [10,100,1000]:\n",
    "    print(n)\n",
    "    model = create_model(learning_rate = lr,inner_nodes = n)\n",
    "    history = model.fit(train_data,epochs = 10,validation_data = val_data)\n",
    "    scores[n] = history.history\n",
    "    print()\n",
    "    print()"
   ]
  },
  {
   "cell_type": "markdown",
   "id": "6aa597cc-7f7b-4f6f-8ea8-ada3d0e04107",
   "metadata": {},
   "source": [
    "### Regularization"
   ]
  },
  {
   "cell_type": "code",
   "execution_count": null,
   "id": "47bddb9e-f932-4758-ab72-b03a6a368c29",
   "metadata": {},
   "outputs": [],
   "source": [
    "def create_model(learning_rate = 0.01,inner_nodes = 1,dropout_rate = 0.2):\n",
    "    base_model = Xception(weights = 'imagenet',input_shape = (150,150,3),include_top = False)\n",
    "    base_model.trainable = False\n",
    "    inputs = keras.Input(shape = (150,150,3))\n",
    "    base_features = base_model(inputs,training = False)\n",
    "    feature_vectors = keras.layers.GlobalAveragePooling2D()(base_features)\n",
    "    optimizer = keras.optimizers.Adam(learning_rate = learning_rate)\n",
    "    loss = keras.losses.CategoricalCrossentropy(from_logits = True)\n",
    "    inner = keras.layers.Dense(inner_nodes,activation = 'relu')(feature_vectors)\n",
    "    dropout = keras.layers.Dropout(dropout_rate)(inner)\n",
    "    outputs = keras.layers.Dense(10)(dropout)\n",
    "    model = keras.Model(inputs,outputs)\n",
    "    model.compile(optimizer=optimizer,loss=loss,metrics = ['accuracy'])\n",
    "    return model"
   ]
  },
  {
   "cell_type": "code",
   "execution_count": null,
   "id": "7fd10ca1-64e2-46eb-9182-80fa884118e4",
   "metadata": {},
   "outputs": [],
   "source": [
    "scores = {}\n",
    "lr = 0.01\n",
    "for n in [0.0,0.2,0.5,0.8]:\n",
    "    print(n)\n",
    "    model = create_model(learning_rate = lr,hidden_num = n,dropout_rate = n)\n",
    "    history = model.fit(train_data,epochs = 30,validation_data = val_data)\n",
    "    scores[n] = history.history\n",
    "    print()\n",
    "    print()"
   ]
  },
  {
   "cell_type": "markdown",
   "id": "6e992b87-ba30-40f1-b044-5b5daf714d52",
   "metadata": {},
   "source": [
    "### Data Augmentation"
   ]
  },
  {
   "cell_type": "code",
   "execution_count": 3,
   "id": "41497b85-5fa5-4f57-a265-ab285b8f97ea",
   "metadata": {},
   "outputs": [
    {
     "ename": "NameError",
     "evalue": "name 'ImageDataGenerator' is not defined",
     "output_type": "error",
     "traceback": [
      "\u001b[31m---------------------------------------------------------------------------\u001b[39m",
      "\u001b[31mNameError\u001b[39m                                 Traceback (most recent call last)",
      "\u001b[36mCell\u001b[39m\u001b[36m \u001b[39m\u001b[32mIn[3]\u001b[39m\u001b[32m, line 1\u001b[39m\n\u001b[32m----> \u001b[39m\u001b[32m1\u001b[39m train_gen = \u001b[43mImageDataGenerator\u001b[49m(preprocessing_function = preprocess_input,\n\u001b[32m      2\u001b[39m                               vertical_flip = \u001b[38;5;28;01mTrue\u001b[39;00m,\n\u001b[32m      3\u001b[39m                               shear_ratio = \u001b[32m10.0\u001b[39m,\n\u001b[32m      4\u001b[39m                               zoon_ratio = \u001b[32m0.1\u001b[39m)\n\u001b[32m      5\u001b[39m val_gen = ImageDataGenerator(preprocessing_function = preprocess_input)\n\u001b[32m      6\u001b[39m test_gen = ImageDataGenerator(preprocessing_function = preprocess_input)\n",
      "\u001b[31mNameError\u001b[39m: name 'ImageDataGenerator' is not defined"
     ]
    }
   ],
   "source": [
    "train_gen = ImageDataGenerator(preprocessing_function = preprocess_input,\n",
    "                              vertical_flip = True,\n",
    "                              shear_ratio = 10.0,\n",
    "                              zoon_ratio = 0.1)\n",
    "val_gen = ImageDataGenerator(preprocessing_function = preprocess_input)\n",
    "test_gen = ImageDataGenerator(preprocessing_function = preprocess_input)\n",
    "train_data = train_gen.flow_from_directory('train',target_size = (150,150),batch_size = 32)\n",
    "val_data = val_gen.flow_from_directory('validation',target_size = (150,150),batch_size = 32,shuffle = False)\n",
    "test_data = test_gen.flow_from_directory('test',target_size = (150,150),batch_size = 32,shuffle = False)"
   ]
  },
  {
   "cell_type": "code",
   "execution_count": null,
   "id": "8ea46807-e759-429d-a95b-e5dd07d63257",
   "metadata": {},
   "outputs": [],
   "source": [
    "def create_model(learning_rate = 0.01,inner_nodes = 1,dropout_rate = 0.2):\n",
    "    base_model = Xception(weights = 'imagenet',input_shape = (150,150,3),include_top = False)\n",
    "    base_model.trainable = False\n",
    "    inputs = keras.Input(shape = (150,150,3))\n",
    "    base_features = base_model(inputs,training = False)\n",
    "    feature_vectors = keras.layers.GlobalAveragePooling2D()(base_features)\n",
    "    optimizer = keras.optimizers.Adam(learning_rate = learning_rate)\n",
    "    loss = keras.losses.CategoricalCrossentropy(from_logits = True)\n",
    "    inner = keras.layers.Dense(inner_nodes,activation = 'relu')(feature_vectors)\n",
    "    dropout = keras.layers.Dropout(dropout_rate)(inner)\n",
    "    outputs = keras.layers.Dense(10)(dropout)\n",
    "    model = keras.Model(inputs,outputs)\n",
    "    model.compile(optimizer=optimizer,loss=loss,metrics = ['accuracy'])\n",
    "    return model"
   ]
  },
  {
   "cell_type": "code",
   "execution_count": null,
   "id": "b19d5e21-ce36-466c-95cb-dce5e187897b",
   "metadata": {},
   "outputs": [],
   "source": [
    "model = create_model(learning_rate = lr,inner_nodes = n)\n",
    "history = model.fit(train_data,epochs = 50,validation_data = val_data)"
   ]
  }
 ],
 "metadata": {
  "kernelspec": {
   "display_name": "Python 3 (ipykernel)",
   "language": "python",
   "name": "python3"
  },
  "language_info": {
   "codemirror_mode": {
    "name": "ipython",
    "version": 3
   },
   "file_extension": ".py",
   "mimetype": "text/x-python",
   "name": "python",
   "nbconvert_exporter": "python",
   "pygments_lexer": "ipython3",
   "version": "3.12.1"
  }
 },
 "nbformat": 4,
 "nbformat_minor": 5
}
