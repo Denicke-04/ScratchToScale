{
 "cells": [
  {
   "cell_type": "markdown",
   "id": "25317e88-c633-4ec8-aa12-f12a6964a590",
   "metadata": {},
   "source": [
    "### TFLite Model Inference Script"
   ]
  },
  {
   "cell_type": "code",
   "execution_count": null,
   "id": "6b2ebc9e-a2cf-419b-857e-704717c06b59",
   "metadata": {},
   "outputs": [],
   "source": [
    "!pip install ai-edge-litert"
   ]
  },
  {
   "cell_type": "code",
   "execution_count": 12,
   "id": "1c94e702-67a5-4cfa-92ab-aaa54754acf1",
   "metadata": {},
   "outputs": [],
   "source": [
    "from PIL import Image\n",
    "import requests\n",
    "from io import BytesIO\n",
    "import numpy as np\n",
    "from ai_edge_litert.interpreter import Interpreter"
   ]
  },
  {
   "cell_type": "code",
   "execution_count": 13,
   "id": "562c317c-5b5d-45b6-beca-b7ddeffc8fd0",
   "metadata": {},
   "outputs": [],
   "source": [
    "def preprocess_input(x):\n",
    "    x /= 127.5\n",
    "    x -= 1.\n",
    "    return x"
   ]
  },
  {
   "cell_type": "code",
   "execution_count": 16,
   "id": "84f0991f-4433-498e-940a-cab678ab16d9",
   "metadata": {},
   "outputs": [],
   "source": [
    "pants_url = 'https://bit.ly/pants-test'\n",
    "hat_url = 'https://bit.ly/hat-test'\n",
    "response = requests.get(hat_url)\n",
    "if response.status_code != 200:\n",
    "    raise ValueError(f\"Failed to download image. Status code: {response.status_code}\")\n",
    "with Image.open(BytesIO(response.content)) as img:\n",
    "    img = img.resize((299, 299), Image.NEAREST)\n",
    "x = np.array(img, dtype='float32')\n",
    "X = np.array([x])\n",
    "X= preprocess_input(X)"
   ]
  },
  {
   "cell_type": "code",
   "execution_count": 17,
   "id": "833920fd-42b8-4fb9-98de-366cb5d299c0",
   "metadata": {},
   "outputs": [
    {
     "name": "stdout",
     "output_type": "stream",
     "text": [
      "Predicted class: Hat (score: 2.5003)\n"
     ]
    }
   ],
   "source": [
    "interpreter = Interpreter(model_path = 'clothing_model.tflite')\n",
    "interpreter.allocate_tensors()\n",
    "input_index = interpreter.get_input_details()[0]['index']\n",
    "output_index = interpreter.get_output_details()[0]['index']\n",
    "interpreter.set_tensor(input_index,X)\n",
    "interpreter.invoke()\n",
    "output = interpreter.get_tensor(output_index)\n",
    "classes = ['dress', 'hat', 'longsleeve', 'outwear', 'pants', 'shirt', 'shoes', 'shorts', 'skirt', 't-shirt']\n",
    "pred_index = np.argmax(output[0])\n",
    "predicted_class = classes[pred_index].capitalize()\n",
    "predicted_score = output[0][pred_index]\n",
    "print(f\"Predicted class: {predicted_class} (score: {predicted_score:.4f})\")"
   ]
  }
 ],
 "metadata": {
  "kernelspec": {
   "display_name": "Python 3 (ipykernel)",
   "language": "python",
   "name": "python3"
  },
  "language_info": {
   "codemirror_mode": {
    "name": "ipython",
    "version": 3
   },
   "file_extension": ".py",
   "mimetype": "text/x-python",
   "name": "python",
   "nbconvert_exporter": "python",
   "pygments_lexer": "ipython3",
   "version": "3.12.1"
  }
 },
 "nbformat": 4,
 "nbformat_minor": 5
}
