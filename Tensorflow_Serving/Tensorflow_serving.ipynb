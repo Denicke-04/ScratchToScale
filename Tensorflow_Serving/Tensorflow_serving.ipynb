{
 "cells": [
  {
   "cell_type": "code",
   "execution_count": 1,
   "id": "068122dd-d517-4fdd-b30b-eb511d1619de",
   "metadata": {},
   "outputs": [
    {
     "name": "stdout",
     "output_type": "stream",
     "text": [
      "Requirement already satisfied: grpcio in d:\\ml_projects_repo\\projects\\.venv\\lib\\site-packages (1.73.1)\n",
      "Collecting tensorflow-serving-api\n",
      "  Downloading tensorflow_serving_api-2.19.0-py2.py3-none-any.whl.metadata (1.8 kB)\n",
      "Requirement already satisfied: protobuf!=4.21.0,!=4.21.1,!=4.21.2,!=4.21.3,!=4.21.4,!=4.21.5,<7.0.0dev,>=3.20.3 in d:\\ml_projects_repo\\projects\\.venv\\lib\\site-packages (from tensorflow-serving-api) (5.29.5)\n",
      "Requirement already satisfied: tensorflow<3,>=2.19.0 in d:\\ml_projects_repo\\projects\\.venv\\lib\\site-packages (from tensorflow-serving-api) (2.19.0)\n",
      "Requirement already satisfied: absl-py>=1.0.0 in d:\\ml_projects_repo\\projects\\.venv\\lib\\site-packages (from tensorflow<3,>=2.19.0->tensorflow-serving-api) (2.3.1)\n",
      "Requirement already satisfied: astunparse>=1.6.0 in d:\\ml_projects_repo\\projects\\.venv\\lib\\site-packages (from tensorflow<3,>=2.19.0->tensorflow-serving-api) (1.6.3)\n",
      "Requirement already satisfied: flatbuffers>=24.3.25 in d:\\ml_projects_repo\\projects\\.venv\\lib\\site-packages (from tensorflow<3,>=2.19.0->tensorflow-serving-api) (25.2.10)\n",
      "Requirement already satisfied: gast!=0.5.0,!=0.5.1,!=0.5.2,>=0.2.1 in d:\\ml_projects_repo\\projects\\.venv\\lib\\site-packages (from tensorflow<3,>=2.19.0->tensorflow-serving-api) (0.6.0)\n",
      "Requirement already satisfied: google-pasta>=0.1.1 in d:\\ml_projects_repo\\projects\\.venv\\lib\\site-packages (from tensorflow<3,>=2.19.0->tensorflow-serving-api) (0.2.0)\n",
      "Requirement already satisfied: libclang>=13.0.0 in d:\\ml_projects_repo\\projects\\.venv\\lib\\site-packages (from tensorflow<3,>=2.19.0->tensorflow-serving-api) (18.1.1)\n",
      "Requirement already satisfied: opt-einsum>=2.3.2 in d:\\ml_projects_repo\\projects\\.venv\\lib\\site-packages (from tensorflow<3,>=2.19.0->tensorflow-serving-api) (3.4.0)\n",
      "Requirement already satisfied: packaging in d:\\ml_projects_repo\\projects\\.venv\\lib\\site-packages (from tensorflow<3,>=2.19.0->tensorflow-serving-api) (25.0)\n",
      "Requirement already satisfied: requests<3,>=2.21.0 in d:\\ml_projects_repo\\projects\\.venv\\lib\\site-packages (from tensorflow<3,>=2.19.0->tensorflow-serving-api) (2.32.4)\n",
      "Requirement already satisfied: setuptools in d:\\ml_projects_repo\\projects\\.venv\\lib\\site-packages (from tensorflow<3,>=2.19.0->tensorflow-serving-api) (80.9.0)\n",
      "Requirement already satisfied: six>=1.12.0 in d:\\ml_projects_repo\\projects\\.venv\\lib\\site-packages (from tensorflow<3,>=2.19.0->tensorflow-serving-api) (1.17.0)\n",
      "Requirement already satisfied: termcolor>=1.1.0 in d:\\ml_projects_repo\\projects\\.venv\\lib\\site-packages (from tensorflow<3,>=2.19.0->tensorflow-serving-api) (3.1.0)\n",
      "Requirement already satisfied: typing-extensions>=3.6.6 in d:\\ml_projects_repo\\projects\\.venv\\lib\\site-packages (from tensorflow<3,>=2.19.0->tensorflow-serving-api) (4.14.1)\n",
      "Requirement already satisfied: wrapt>=1.11.0 in d:\\ml_projects_repo\\projects\\.venv\\lib\\site-packages (from tensorflow<3,>=2.19.0->tensorflow-serving-api) (1.17.2)\n",
      "Requirement already satisfied: tensorboard~=2.19.0 in d:\\ml_projects_repo\\projects\\.venv\\lib\\site-packages (from tensorflow<3,>=2.19.0->tensorflow-serving-api) (2.19.0)\n",
      "Requirement already satisfied: keras>=3.5.0 in d:\\ml_projects_repo\\projects\\.venv\\lib\\site-packages (from tensorflow<3,>=2.19.0->tensorflow-serving-api) (3.10.0)\n",
      "Requirement already satisfied: numpy<2.2.0,>=1.26.0 in d:\\ml_projects_repo\\projects\\.venv\\lib\\site-packages (from tensorflow<3,>=2.19.0->tensorflow-serving-api) (2.1.3)\n",
      "Requirement already satisfied: h5py>=3.11.0 in d:\\ml_projects_repo\\projects\\.venv\\lib\\site-packages (from tensorflow<3,>=2.19.0->tensorflow-serving-api) (3.14.0)\n",
      "Requirement already satisfied: ml-dtypes<1.0.0,>=0.5.1 in d:\\ml_projects_repo\\projects\\.venv\\lib\\site-packages (from tensorflow<3,>=2.19.0->tensorflow-serving-api) (0.5.1)\n",
      "Requirement already satisfied: wheel<1.0,>=0.23.0 in d:\\ml_projects_repo\\projects\\.venv\\lib\\site-packages (from astunparse>=1.6.0->tensorflow<3,>=2.19.0->tensorflow-serving-api) (0.45.1)\n",
      "Requirement already satisfied: rich in d:\\ml_projects_repo\\projects\\.venv\\lib\\site-packages (from keras>=3.5.0->tensorflow<3,>=2.19.0->tensorflow-serving-api) (14.0.0)\n",
      "Requirement already satisfied: namex in d:\\ml_projects_repo\\projects\\.venv\\lib\\site-packages (from keras>=3.5.0->tensorflow<3,>=2.19.0->tensorflow-serving-api) (0.1.0)\n",
      "Requirement already satisfied: optree in d:\\ml_projects_repo\\projects\\.venv\\lib\\site-packages (from keras>=3.5.0->tensorflow<3,>=2.19.0->tensorflow-serving-api) (0.16.0)\n",
      "Requirement already satisfied: charset_normalizer<4,>=2 in d:\\ml_projects_repo\\projects\\.venv\\lib\\site-packages (from requests<3,>=2.21.0->tensorflow<3,>=2.19.0->tensorflow-serving-api) (3.4.2)\n",
      "Requirement already satisfied: idna<4,>=2.5 in d:\\ml_projects_repo\\projects\\.venv\\lib\\site-packages (from requests<3,>=2.21.0->tensorflow<3,>=2.19.0->tensorflow-serving-api) (3.10)\n",
      "Requirement already satisfied: urllib3<3,>=1.21.1 in d:\\ml_projects_repo\\projects\\.venv\\lib\\site-packages (from requests<3,>=2.21.0->tensorflow<3,>=2.19.0->tensorflow-serving-api) (2.5.0)\n",
      "Requirement already satisfied: certifi>=2017.4.17 in d:\\ml_projects_repo\\projects\\.venv\\lib\\site-packages (from requests<3,>=2.21.0->tensorflow<3,>=2.19.0->tensorflow-serving-api) (2025.7.14)\n",
      "Requirement already satisfied: markdown>=2.6.8 in d:\\ml_projects_repo\\projects\\.venv\\lib\\site-packages (from tensorboard~=2.19.0->tensorflow<3,>=2.19.0->tensorflow-serving-api) (3.8.2)\n",
      "Requirement already satisfied: tensorboard-data-server<0.8.0,>=0.7.0 in d:\\ml_projects_repo\\projects\\.venv\\lib\\site-packages (from tensorboard~=2.19.0->tensorflow<3,>=2.19.0->tensorflow-serving-api) (0.7.2)\n",
      "Requirement already satisfied: werkzeug>=1.0.1 in d:\\ml_projects_repo\\projects\\.venv\\lib\\site-packages (from tensorboard~=2.19.0->tensorflow<3,>=2.19.0->tensorflow-serving-api) (3.1.3)\n",
      "Requirement already satisfied: MarkupSafe>=2.1.1 in d:\\ml_projects_repo\\projects\\.venv\\lib\\site-packages (from werkzeug>=1.0.1->tensorboard~=2.19.0->tensorflow<3,>=2.19.0->tensorflow-serving-api) (3.0.2)\n",
      "Requirement already satisfied: markdown-it-py>=2.2.0 in d:\\ml_projects_repo\\projects\\.venv\\lib\\site-packages (from rich->keras>=3.5.0->tensorflow<3,>=2.19.0->tensorflow-serving-api) (3.0.0)\n",
      "Requirement already satisfied: pygments<3.0.0,>=2.13.0 in d:\\ml_projects_repo\\projects\\.venv\\lib\\site-packages (from rich->keras>=3.5.0->tensorflow<3,>=2.19.0->tensorflow-serving-api) (2.19.2)\n",
      "Requirement already satisfied: mdurl~=0.1 in d:\\ml_projects_repo\\projects\\.venv\\lib\\site-packages (from markdown-it-py>=2.2.0->rich->keras>=3.5.0->tensorflow<3,>=2.19.0->tensorflow-serving-api) (0.1.2)\n",
      "Downloading tensorflow_serving_api-2.19.0-py2.py3-none-any.whl (26 kB)\n",
      "Installing collected packages: tensorflow-serving-api\n",
      "Successfully installed tensorflow-serving-api-2.19.0\n"
     ]
    },
    {
     "name": "stderr",
     "output_type": "stream",
     "text": [
      "\n",
      "[notice] A new release of pip is available: 25.0.1 -> 25.1.1\n",
      "[notice] To update, run: python.exe -m pip install --upgrade pip\n"
     ]
    }
   ],
   "source": [
    "!pip install grpcio tensorflow-serving-api"
   ]
  },
  {
   "cell_type": "code",
   "execution_count": 2,
   "id": "bdcc8af2-b957-43ef-9ad0-53fd1364da08",
   "metadata": {},
   "outputs": [],
   "source": [
    "import grpc\n",
    "import tensorflow as tf\n",
    "from tensorflow_serving.apis import predict_pb2, prediction_service_pb2_grpc\n",
    "import numpy as np"
   ]
  },
  {
   "cell_type": "code",
   "execution_count": 13,
   "id": "b5082b0f-5322-4247-9143-beeb37448cad",
   "metadata": {},
   "outputs": [],
   "source": [
    "host = 'localhost:8500'\n",
    "channel = grpc.insecure_channel(host)\n",
    "stub = prediction_service_pb2_grpc.PredictionServiceStub(channel)\n"
   ]
  },
  {
   "cell_type": "code",
   "execution_count": 6,
   "id": "3f897ce8-8ec1-482e-a67a-18a43c381ca2",
   "metadata": {},
   "outputs": [],
   "source": [
    "from PIL import Image\n",
    "import requests\n",
    "from io import BytesIO\n",
    "import numpy as np\n",
    "import tensorflow.lite as tflite"
   ]
  },
  {
   "cell_type": "code",
   "execution_count": 10,
   "id": "b8ef1fc4-8e9b-4d1c-be4d-2b7c6b6a37a6",
   "metadata": {},
   "outputs": [],
   "source": [
    "def preprocess_input(x):\n",
    "    x /= 127.5\n",
    "    x -= 1.\n",
    "    return x\n",
    "def np_to_protobuf(data):\n",
    "    return tf.make_tensor_proto(data,shape = data.shape)"
   ]
  },
  {
   "cell_type": "code",
   "execution_count": 8,
   "id": "ab8b6c35-ff37-434b-8477-274771305a44",
   "metadata": {},
   "outputs": [],
   "source": [
    "pants_url = 'https://bit.ly/pants-test'\n",
    "hat_url = 'https://bit.ly/hat-test'\n",
    "response = requests.get(hat_url)\n",
    "if response.status_code != 200:\n",
    "    raise ValueError(f\"Failed to download image. Status code: {response.status_code}\")\n",
    "with Image.open(BytesIO(response.content)) as img:\n",
    "    img = img.resize((299, 299), Image.NEAREST)\n",
    "x = np.array(img, dtype='float32')\n",
    "X = np.array([x])\n",
    "X= preprocess_input(X)"
   ]
  },
  {
   "cell_type": "code",
   "execution_count": 15,
   "id": "89c65aa8-c48d-4bcc-b4c7-e3df5ac5ac52",
   "metadata": {},
   "outputs": [],
   "source": [
    "pb_request = predict_pb2.PredictRequest()\n",
    "pb_request.model_spec.name = 'clothing-model'\n",
    "pb_request.model_spec.signature_name = 'serving_default'\n",
    "pb_request.inputs['input_8'].CopyFrom(np_to_protobuf(X))"
   ]
  },
  {
   "cell_type": "code",
   "execution_count": 16,
   "id": "1829acce-f8f9-4936-bc86-81aa8a8ce2ff",
   "metadata": {},
   "outputs": [],
   "source": [
    "pb_response = stub.Predict(pb_request,timeout = 20.0)"
   ]
  },
  {
   "cell_type": "code",
   "execution_count": 18,
   "id": "604db91f-a9e9-4fe7-8ced-698ad6e63cff",
   "metadata": {},
   "outputs": [
    {
     "name": "stdout",
     "output_type": "stream",
     "text": [
      "Predicted class: Hat (score: 2.5003)\n"
     ]
    }
   ],
   "source": [
    "\n",
    "classes = ['dress', 'hat', 'longsleeve', 'outwear', 'pants', 'shirt', 'shoes', 'shorts', 'skirt', 't-shirt']\n",
    "raw_output = pb_response.outputs[\"dense_7\"].float_val\n",
    "output_array = np.array(raw_output)\n",
    "pred_index = np.argmax(output_array)\n",
    "predicted_class = classes[pred_index].capitalize()\n",
    "predicted_score = output_array[pred_index]\n",
    "\n",
    "print(f\"Predicted class: {predicted_class} (score: {predicted_score:.4f})\")\n"
   ]
  },
  {
   "cell_type": "code",
   "execution_count": null,
   "id": "bbda26d7-6e6b-4f01-be49-e35965faa8bf",
   "metadata": {},
   "outputs": [],
   "source": []
  }
 ],
 "metadata": {
  "kernelspec": {
   "display_name": "Python 3 (ipykernel)",
   "language": "python",
   "name": "python3"
  },
  "language_info": {
   "codemirror_mode": {
    "name": "ipython",
    "version": 3
   },
   "file_extension": ".py",
   "mimetype": "text/x-python",
   "name": "python",
   "nbconvert_exporter": "python",
   "pygments_lexer": "ipython3",
   "version": "3.12.10"
  }
 },
 "nbformat": 4,
 "nbformat_minor": 5
}
